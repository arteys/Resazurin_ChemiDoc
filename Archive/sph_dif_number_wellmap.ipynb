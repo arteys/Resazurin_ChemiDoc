{
 "cells": [
  {
   "cell_type": "code",
   "execution_count": 1,
   "metadata": {},
   "outputs": [],
   "source": [
    "import wellmap\n",
    "import pandas as pd\n",
    "import os\n",
    "import string\n",
    "import seaborn as sns"
   ]
  },
  {
   "cell_type": "code",
   "execution_count": 5,
   "metadata": {},
   "outputs": [
    {
     "data": {
      "image/png": "[encoded data removed]",
      "text/plain": [
       "<Figure size 519.25x270 with 2 Axes>"
      ]
     },
     "metadata": {},
     "output_type": "display_data"
    }
   ],
   "source": [
    "# wellmap.show(\"2 substance 1 plate.toml\")\n",
    "wellmap.show(\"sph_dif_number.toml\"); # Yes, this semicolon is meaningful. Or plates map will be duplicated"
   ]
  },
  {
   "cell_type": "code",
   "execution_count": 7,
   "metadata": {},
   "outputs": [],
   "source": [
    "path_to_data_0h = r\"C:\\Users\\Modern\\Documents\\Biorad\\CellProfiler\\Results\\27-06-2024 Resazurin hTERT Sph dif N\\0H_Wells_plate.csv\"\n",
    "path_to_data_24h = r\"C:\\Users\\Modern\\Documents\\Biorad\\CellProfiler\\Results\\27-06-2024 Resazurin hTERT Sph dif N\\24HWells_plate.csv\"\n",
    "\n",
    "data_raw_0h = pd.read_csv(path_to_data_0h) \n",
    "data_raw_24h = pd.read_csv(path_to_data_24h) \n",
    "\n",
    "# print(data_raw.columns)\n",
    "# print(data)\n"
   ]
  },
  {
   "cell_type": "code",
   "execution_count": 16,
   "metadata": {},
   "outputs": [],
   "source": [
    "data_0H = data_raw_0h[['Intensity_MeanIntensity_OrigGreen','Intensity_MeanIntensity_OrigRed']].copy()\n",
    "data_24H = data_raw_24h[['Intensity_MeanIntensity_OrigGreen','Intensity_MeanIntensity_OrigRed']].copy()\n",
    "\n",
    "data_0H['Time'] = '0_h'\n",
    "data_24H['Time'] = '24_h'\n"
   ]
  },
  {
   "cell_type": "code",
   "execution_count": 17,
   "metadata": {},
   "outputs": [
    {
     "name": "stdout",
     "output_type": "stream",
     "text": [
      "   row  col\n",
      "0    A    1\n",
      "1    B    1\n",
      "2    C    1\n",
      "3    D    1\n",
      "4    E    1\n",
      "..  ..  ...\n",
      "91   D   12\n",
      "92   E   12\n",
      "93   F   12\n",
      "94   G   12\n",
      "95   H   12\n",
      "\n",
      "[96 rows x 2 columns]\n"
     ]
    }
   ],
   "source": [
    "row_column_df = pd.DataFrame(columns=['row','col'])\n",
    "\n",
    "row =  list(string.ascii_uppercase[0:8])\n",
    "column = list(range(1,13))\n",
    "\n",
    "row_column_list = []\n",
    "\n",
    "for c in column:\n",
    "    for r in row:\n",
    "        array_i = [r,c]\n",
    "        row_column_list.append(array_i)\n",
    "\n",
    "\n",
    "# print(row_column_list)\n",
    "\n",
    "\n",
    "row_column_df = pd.DataFrame(row_column_list, columns = ['row', 'col']) \n",
    "\n",
    "print(row_column_df)"
   ]
  },
  {
   "cell_type": "code",
   "execution_count": 18,
   "metadata": {},
   "outputs": [],
   "source": [
    "\n",
    "data_indexed_0H = pd.concat([row_column_df, data_0H], axis=1, join='inner')\n",
    "data_indexed_24H = pd.concat([row_column_df, data_24H], axis=1, join='inner')\n",
    "\n",
    "\n",
    "\n",
    "data_indexed_0H['col']=data_indexed_0H['col'].astype(str)\n",
    "data_indexed_24H['col']=data_indexed_24H['col'].astype(str)\n"
   ]
  },
  {
   "cell_type": "code",
   "execution_count": 22,
   "metadata": {},
   "outputs": [
    {
     "name": "stdout",
     "output_type": "stream",
     "text": [
      "   row col  Intensity_MeanIntensity_OrigGreen  \\\n",
      "0    A   1                           0.010676   \n",
      "1    B   1                           0.012040   \n",
      "2    C   1                           0.012846   \n",
      "3    D   1                           0.012140   \n",
      "4    E   1                           0.012437   \n",
      "..  ..  ..                                ...   \n",
      "91   D  12                           0.031638   \n",
      "92   E  12                           0.030534   \n",
      "93   F  12                           0.031788   \n",
      "94   G  12                           0.031281   \n",
      "95   H  12                           0.027520   \n",
      "\n",
      "    Intensity_MeanIntensity_OrigRed  Time  \n",
      "0                          0.214120   0_h  \n",
      "1                          0.249373   0_h  \n",
      "2                          0.267578   0_h  \n",
      "3                          0.250668   0_h  \n",
      "4                          0.259089   0_h  \n",
      "..                              ...   ...  \n",
      "91                         0.295843  24_h  \n",
      "92                         0.301680  24_h  \n",
      "93                         0.308575  24_h  \n",
      "94                         0.292885  24_h  \n",
      "95                         0.260547  24_h  \n",
      "\n",
      "[192 rows x 5 columns]\n"
     ]
    }
   ],
   "source": [
    "\n",
    "data = pd.concat([data_indexed_0H, data_indexed_24H], axis=0, join='inner')\n",
    "\n",
    "print(data)"
   ]
  },
  {
   "cell_type": "code",
   "execution_count": 23,
   "metadata": {},
   "outputs": [
    {
     "name": "stdout",
     "output_type": "stream",
     "text": [
      "    row col  Intensity_MeanIntensity_OrigGreen  \\\n",
      "0     A   1                           0.010676   \n",
      "1     A   1                           0.188508   \n",
      "2     B   1                           0.012040   \n",
      "3     B   1                           0.204944   \n",
      "4     C   1                           0.012846   \n",
      "..   ..  ..                                ...   \n",
      "187   F  12                           0.031788   \n",
      "188   G  12                           0.020373   \n",
      "189   G  12                           0.031281   \n",
      "190   H  12                           0.017356   \n",
      "191   H  12                           0.027520   \n",
      "\n",
      "     Intensity_MeanIntensity_OrigRed  Time well well0  row_i  col_j sample  \n",
      "0                           0.214120   0_h   A1   A01      0      0    N57  \n",
      "1                           0.056009  24_h   A1   A01      0      0    N57  \n",
      "2                           0.249373   0_h   B1   B01      1      0    N57  \n",
      "3                           0.068858  24_h   B1   B01      1      0    N57  \n",
      "4                           0.267578   0_h   C1   C01      2      0    N57  \n",
      "..                               ...   ...  ...   ...    ...    ...    ...  \n",
      "187                         0.308575  24_h  F12   F12      5     11  Blank  \n",
      "188                         0.319052   0_h  G12   G12      6     11  Blank  \n",
      "189                         0.292885  24_h  G12   G12      6     11  Blank  \n",
      "190                         0.269431   0_h  H12   H12      7     11  Blank  \n",
      "191                         0.260547  24_h  H12   H12      7     11  Blank  \n",
      "\n",
      "[192 rows x 10 columns]\n"
     ]
    }
   ],
   "source": [
    "labels = wellmap.load('sph_dif_number.toml')\n",
    "# print(labels.dtypes)\n",
    "# print(data_indexed.dtypes)\n",
    "\n",
    "\n",
    "data_plate = pd.merge(data, labels)\n",
    "print(data_plate)"
   ]
  },
  {
   "cell_type": "code",
   "execution_count": 33,
   "metadata": {},
   "outputs": [
    {
     "data": {
      "image/png": "[encoded data removed]",
      "text/plain": [
       "<Figure size 640x480 with 1 Axes>"
      ]
     },
     "metadata": {},
     "output_type": "display_data"
    }
   ],
   "source": [
    "ax = sns.boxplot(data=data_plate, x=\"sample\", y=\"Intensity_MeanIntensity_OrigGreen\", hue = 'Time', order=['N7', 'N17', 'N34', 'N57', 'Blank'])\n"
   ]
  }
 ],
 "metadata": {
  "kernelspec": {
   "display_name": "Python 3",
   "language": "python",
   "name": "python3"
  },
  "language_info": {
   "codemirror_mode": {
    "name": "ipython",
    "version": 3
   },
   "file_extension": ".py",
   "mimetype": "text/x-python",
   "name": "python",
   "nbconvert_exporter": "python",
   "pygments_lexer": "ipython3",
   "version": "3.12.4"
  }
 },
 "nbformat": 4,
 "nbformat_minor": 2
}
