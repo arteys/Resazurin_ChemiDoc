{
 "cells": [
  {
   "cell_type": "code",
   "execution_count": null,
   "metadata": {},
   "outputs": [],
   "source": [
    "import wellmap\n",
    "import pandas as pd\n",
    "import os\n",
    "import string\n",
    "import seaborn as sns\n",
    "from os import listdir\n",
    "from os.path import isfile, join"
   ]
  },
  {
   "cell_type": "markdown",
   "metadata": {},
   "source": [
    "Old one for single images"
   ]
  },
  {
   "cell_type": "code",
   "execution_count": null,
   "metadata": {},
   "outputs": [],
   "source": [
    "path_to_data = r\"C:\\Users\\Modern\\Documents\\Biorad\\CellProfiler\\Results\\2024-07-19 RD, Vero, hTERT CK-122\\ExpWells_plate.csv\"\n",
    "path_to_wellmap = r\"C:\\Users\\Modern\\Documents\\Biorad\\CellProfiler\\Results\\2024-07-19 RD, Vero, hTERT CK-122\\2024-07-19 RD CK-122 5H (Multichannel).toml\"\n",
    "\n",
    "data_raw = pd.read_csv(path_to_data) \n",
    "\n",
    "wellmap.show(path_to_wellmap)\n",
    "\n",
    "print(data_raw.columns)\n",
    "# print(data)\n"
   ]
  },
  {
   "cell_type": "code",
   "execution_count": null,
   "metadata": {},
   "outputs": [],
   "source": [
    "part_to_folder = r\"C:\\Users\\Modern\\Documents\\Biorad\\CellProfiler\\Results\\2024-07-19 RD, Vero, hTERT CK-122\"\n",
    "\n",
    "# files = [f for f in listdir(part_to_folder) if isfile(join(part_to_folder, f))]\n",
    "\n",
    "image_list_path = os.path.join(part_to_folder, \"ExpImage.csv\")\n",
    "data_path  = os.path.join(part_to_folder, \"ExpWells_plate.csv\")\n",
    "\n",
    "data_raw_df = pd.read_csv(data_path) \n",
    "image_list_df = pd.read_csv(image_list_path) \n",
    "\n",
    "print(image_list_df)\n"
   ]
  },
  {
   "cell_type": "markdown",
   "metadata": {},
   "source": [
    "Generating labels for wells"
   ]
  },
  {
   "cell_type": "code",
   "execution_count": null,
   "metadata": {},
   "outputs": [],
   "source": [
    "# row_column_df = pd.DataFrame(columns=['row','col'])\n",
    "\n",
    "row =  list(string.ascii_uppercase[0:8])\n",
    "column = list(range(1,13))\n",
    "plate = image_list_df['FileName_RGB'].to_list()\n",
    "\n",
    "row_column_list = []\n",
    "\n",
    "\n",
    "for p in plate:\n",
    "    for c in column:\n",
    "        for r in row:\n",
    "            array_i = [r,c,p]\n",
    "            row_column_list.append(array_i)\n",
    "\n",
    "row_column_df = pd.DataFrame(row_column_list, columns = ['row', 'col','FileName_RGB']) \n",
    "\n",
    "print(row_column_df)"
   ]
  },
  {
   "cell_type": "code",
   "execution_count": null,
   "metadata": {},
   "outputs": [],
   "source": [
    "data = data_raw[['Intensity_IntegratedIntensity_OrigGreen','Intensity_IntegratedIntensity_OrigRed','Intensity_MeanIntensity_OrigGreen','Intensity_MeanIntensity_OrigRed']].copy()\n",
    "data_indexed = pd.concat([row_column_df, data], axis=1, join='inner')\n",
    "\n",
    "\n",
    "data_indexed['col']=data_indexed['col'].astype(str)\n"
   ]
  },
  {
   "cell_type": "markdown",
   "metadata": {},
   "source": [
    "Add images names to data (thank you CellProfiler for convenience)"
   ]
  },
  {
   "cell_type": "code",
   "execution_count": 26,
   "metadata": {},
   "outputs": [
    {
     "name": "stdout",
     "output_type": "stream",
     "text": [
      "    row  col                                   FileName_RGB  ImageNumber  \\\n",
      "0     A    1     2024-07-19 RD CK-122 5H (Multichannel).tif            1   \n",
      "1     B    1     2024-07-19 RD CK-122 5H (Multichannel).tif            1   \n",
      "2     C    1     2024-07-19 RD CK-122 5H (Multichannel).tif            1   \n",
      "3     D    1     2024-07-19 RD CK-122 5H (Multichannel).tif            1   \n",
      "4     E    1     2024-07-19 RD CK-122 5H (Multichannel).tif            1   \n",
      "..   ..  ...                                            ...          ...   \n",
      "283   D   12  2024-07-19 hTERT CK-122 5H (Multichannel).tif            3   \n",
      "284   E   12  2024-07-19 hTERT CK-122 5H (Multichannel).tif            3   \n",
      "285   F   12  2024-07-19 hTERT CK-122 5H (Multichannel).tif            3   \n",
      "286   G   12  2024-07-19 hTERT CK-122 5H (Multichannel).tif            3   \n",
      "287   H   12  2024-07-19 hTERT CK-122 5H (Multichannel).tif            3   \n",
      "\n",
      "     ObjectNumber  Intensity_IntegratedIntensity_OrigGreen  \\\n",
      "0               1                                77.466670   \n",
      "1               2                                92.788239   \n",
      "2               3                               189.564713   \n",
      "3               4                                98.427455   \n",
      "4               5                                94.607847   \n",
      "..            ...                                      ...   \n",
      "283            92                               845.105908   \n",
      "284            93                               848.172574   \n",
      "285            94                               796.427477   \n",
      "286            95                               710.000026   \n",
      "287            96                               107.427455   \n",
      "\n",
      "     Intensity_IntegratedIntensity_OrigRed  Intensity_MeanIntensity_OrigGreen  \\\n",
      "0                              1023.400026                           0.014175   \n",
      "1                              1067.823553                           0.016979   \n",
      "2                              1099.305905                           0.034687   \n",
      "3                              1027.149042                           0.018011   \n",
      "4                              1058.537277                           0.017312   \n",
      "..                                     ...                                ...   \n",
      "283                             594.686287                           0.153739   \n",
      "284                             634.200016                           0.154297   \n",
      "285                             640.768644                           0.144884   \n",
      "286                             540.556873                           0.129161   \n",
      "287                            1266.588260                           0.019543   \n",
      "\n",
      "     Intensity_MeanIntensity_OrigRed  Intensity_StdIntensity_OrigGreen  \\\n",
      "0                           0.187264                          0.003601   \n",
      "1                           0.195393                          0.004138   \n",
      "2                           0.201154                          0.009056   \n",
      "3                           0.187950                          0.004163   \n",
      "4                           0.193694                          0.003841   \n",
      "..                               ...                               ...   \n",
      "283                         0.108184                          0.034865   \n",
      "284                         0.115372                          0.036075   \n",
      "285                         0.116567                          0.034424   \n",
      "286                         0.098337                          0.022779   \n",
      "287                         0.230414                          0.003952   \n",
      "\n",
      "     Intensity_StdIntensity_OrigRed  \\\n",
      "0                          0.057348   \n",
      "1                          0.066542   \n",
      "2                          0.069178   \n",
      "3                          0.064835   \n",
      "4                          0.065647   \n",
      "..                              ...   \n",
      "283                        0.024723   \n",
      "284                        0.029576   \n",
      "285                        0.027327   \n",
      "286                        0.019004   \n",
      "287                        0.046260   \n",
      "\n",
      "                                      FileName_RGB  \n",
      "0       2024-07-19 RD CK-122 5H (Multichannel).tif  \n",
      "1       2024-07-19 RD CK-122 5H (Multichannel).tif  \n",
      "2       2024-07-19 RD CK-122 5H (Multichannel).tif  \n",
      "3       2024-07-19 RD CK-122 5H (Multichannel).tif  \n",
      "4       2024-07-19 RD CK-122 5H (Multichannel).tif  \n",
      "..                                             ...  \n",
      "283  2024-07-19 hTERT CK-122 5H (Multichannel).tif  \n",
      "284  2024-07-19 hTERT CK-122 5H (Multichannel).tif  \n",
      "285  2024-07-19 hTERT CK-122 5H (Multichannel).tif  \n",
      "286  2024-07-19 hTERT CK-122 5H (Multichannel).tif  \n",
      "287  2024-07-19 hTERT CK-122 5H (Multichannel).tif  \n",
      "\n",
      "[288 rows x 12 columns]\n"
     ]
    }
   ],
   "source": [
    "data_full_df =  pd.merge(data_raw_df, image_list_df, on='ImageNumber')\n",
    "data_indexed = pd.concat([row_column_df, data_full_df], axis=1, join='inner')\n",
    "\n",
    "print(data_indexed)"
   ]
  },
  {
   "cell_type": "code",
   "execution_count": null,
   "metadata": {},
   "outputs": [],
   "source": [
    "labels = wellmap.load(path_to_wellmap)\n",
    "# print(labels.dtypes)\n",
    "# print(data_indexed.dtypes)\n",
    "\n",
    "\n",
    "data_plate = pd.merge(data_indexed, labels)\n",
    "# print(labels.dtypes)\n",
    "\n",
    "data_plate[[\"conc_uM\"]] = data_plate[[\"conc_uM\"]].apply(pd.to_numeric)\n",
    "\n",
    "print(data_plate.dtypes)\n"
   ]
  },
  {
   "cell_type": "markdown",
   "metadata": {},
   "source": [
    "Drop blank and outliers"
   ]
  },
  {
   "cell_type": "code",
   "execution_count": null,
   "metadata": {},
   "outputs": [],
   "source": [
    "data_plate_wo_blank = data_plate[data_plate.blank == 'No'].copy()\n",
    "\n",
    "well_drop_list = ['G12']\n",
    "\n",
    "# data_plate_wo_blank = data_plate_wo_blank[~data_plate_wo_blank['well'].isin(well_drop_list)]\n",
    "\n",
    "# df_show = data_plate_wo_blank.loc[(data_plate_wo_blank['sample'] == 'Substance_1') & (data_plate_wo_blank['conc_uM'] == '0')]\n",
    "\n",
    "df_show = data_plate_wo_blank.loc[(data_plate_wo_blank['conc_uM'] == 0)]\n",
    "\n",
    "print(df_show[['Intensity_MeanIntensity_OrigGreen','well']])"
   ]
  },
  {
   "cell_type": "markdown",
   "metadata": {},
   "source": [
    "Relative values calculation\n"
   ]
  },
  {
   "cell_type": "code",
   "execution_count": null,
   "metadata": {},
   "outputs": [],
   "source": [
    "blank_green = data_plate[(data_plate['blank'] == 'Yes')].loc[:,'Intensity_MeanIntensity_OrigGreen'].mean()\n",
    "\n",
    "print(blank_green)\n",
    "\n",
    "control_green = data_plate_wo_blank[(data_plate_wo_blank['conc_uM'] == 0)].loc[:,'Intensity_MeanIntensity_OrigGreen'].mean()\n",
    "\n",
    "print(control_green)\n",
    "\n",
    "\n",
    "\n",
    "data_plate_wo_blank['Green'] = data_plate_wo_blank['Intensity_MeanIntensity_OrigGreen'] - blank_green\n",
    "\n",
    "data_plate_wo_blank['Green_relative'] = data_plate_wo_blank['Green']/control_green\n",
    "\n",
    "\n",
    "df_show = data_plate_wo_blank.loc[(data_plate_wo_blank['conc_uM'] == 0)]\n",
    "\n",
    "print(df_show[['Green_relative','well']])\n"
   ]
  },
  {
   "cell_type": "markdown",
   "metadata": {},
   "source": [
    "Plotting\n"
   ]
  },
  {
   "cell_type": "code",
   "execution_count": null,
   "metadata": {},
   "outputs": [],
   "source": [
    "# sns.swarmplot(data=data_plate_wo_blank, x=\"conc_uM\", y=\"Intensity_MeanIntensity_OrigGreen\", hue='sample')\n",
    "# ax = sns.scatterplot(data=data_plate_wo_blank, x=\"conc_uM\", y=\"Intensity_MeanIntensity_OrigGreen\")\n",
    "\n",
    "ax = sns.relplot(data=data_plate_wo_blank, x=\"conc_uM\", y=\"Intensity_MeanIntensity_OrigGreen\", kind=\"line\", hue = 'cells')\n",
    "\n",
    "# ax.set(xlabel=None, ylabel='Viable cell, % of control')\n",
    "\n",
    "ax.set(xlabel='Concentration, μM', ylabel='Green channel intensity')\n",
    "ax.set(xscale=\"log\")\n",
    "\n",
    "\n",
    "# handles, labels = ax.get_legend_handles_labels()\n",
    "# labels = ['CK-122','ISK-1','Control']\n",
    "# ax.legend(handles=handles, labels=labels)"
   ]
  },
  {
   "cell_type": "code",
   "execution_count": null,
   "metadata": {},
   "outputs": [],
   "source": [
    "ax = sns.swarmplot(data=data_plate_wo_blank, x=\"conc_uM\", y=\"Intensity_MeanIntensity_OrigGreen\")\n"
   ]
  }
 ],
 "metadata": {
  "kernelspec": {
   "display_name": "Python 3",
   "language": "python",
   "name": "python3"
  },
  "language_info": {
   "codemirror_mode": {
    "name": "ipython",
    "version": 3
   },
   "file_extension": ".py",
   "mimetype": "text/x-python",
   "name": "python",
   "nbconvert_exporter": "python",
   "pygments_lexer": "ipython3",
   "version": "3.12.4"
  }
 },
 "nbformat": 4,
 "nbformat_minor": 2
}
