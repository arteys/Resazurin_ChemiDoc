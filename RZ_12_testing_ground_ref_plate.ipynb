{
 "cells": [
  {
   "cell_type": "code",
   "execution_count": null,
   "metadata": {},
   "outputs": [],
   "source": [
    "import wellmap\n",
    "import pandas as pd\n",
    "import os\n",
    "import string\n",
    "import seaborn as sns\n",
    "from os import listdir\n",
    "from os.path import isfile, join\n",
    "import matplotlib.pyplot as plt"
   ]
  },
  {
   "cell_type": "markdown",
   "metadata": {},
   "source": [
    "New for multiple images in CP file"
   ]
  },
  {
   "cell_type": "code",
   "execution_count": null,
   "metadata": {},
   "outputs": [],
   "source": [
    "part_to_folder = r\"C:\\Users\\Modern\\Documents\\Biorad\\CellProfiler\\Results\\2024-07-30 RZ RD Belskaya GA-702\"\n",
    "\n",
    "# files = [f for f in listdir(part_to_folder) if isfile(join(part_to_folder, f))]\n",
    "\n",
    "image_list_path = os.path.join(part_to_folder, \"ExpImage.csv\")\n",
    "data_path  = os.path.join(part_to_folder, \"ExpWells_plate.csv\")\n",
    "\n",
    "data_raw_df = pd.read_csv(data_path) \n",
    "image_list_df = pd.read_csv(image_list_path) \n",
    "\n",
    "print(image_list_df)\n"
   ]
  },
  {
   "cell_type": "markdown",
   "metadata": {},
   "source": [
    "Extract wellmaps and combine into one df with names of the images"
   ]
  },
  {
   "cell_type": "code",
   "execution_count": 149,
   "metadata": {},
   "outputs": [
    {
     "name": "stdout",
     "output_type": "stream",
     "text": [
      "C:\\Users\\Modern\\Documents\\Biorad\\CellProfiler\\Results\\2024-07-30 RZ RD Belskaya GA-702\\2024-07-30 RZ RD Belskaya GA-702 dark 0H (Multichannel).toml\n"
     ]
    },
    {
     "data": {
      "image/png": "[encoded data removed]",
      "text/plain": [
       "<Figure size 427.125x710 with 6 Axes>"
      ]
     },
     "metadata": {},
     "output_type": "display_data"
    }
   ],
   "source": [
    "wellmap_path_list = []\n",
    "\n",
    "for file in os.listdir(part_to_folder):\n",
    "    if file.endswith(\".toml\"):\n",
    "        wellmap_path_list.append(os.path.join(part_to_folder, file))\n",
    "        # wellmap_path_list.append(file)\n",
    "\n",
    "print(wellmap_path_list[0])\n",
    "\n",
    "wellmap_df = wellmap.load(wellmap_path_list[0]) \n",
    "\n",
    "wellmap_list = []\n",
    "\n",
    "for file in wellmap_path_list:\n",
    "    wellmap_i = wellmap.load(file)\n",
    "    wellmap_list.append(wellmap_i)\n",
    "\n",
    "wellmaps_df = pd.concat(wellmap_list, axis=0, ignore_index=True)\n",
    "# print(wellmaps_df)\n",
    "\n",
    "wellmap.show(file);\n",
    "plt.show();"
   ]
  },
  {
   "cell_type": "markdown",
   "metadata": {},
   "source": [
    "Generating labels for wells"
   ]
  },
  {
   "cell_type": "code",
   "execution_count": 150,
   "metadata": {},
   "outputs": [
    {
     "name": "stdout",
     "output_type": "stream",
     "text": [
      "    row  col\n",
      "0     A    1\n",
      "1     B    1\n",
      "2     C    1\n",
      "3     D    1\n",
      "4     E    1\n",
      "..   ..  ...\n",
      "571   D   12\n",
      "572   E   12\n",
      "573   F   12\n",
      "574   G   12\n",
      "575   H   12\n",
      "\n",
      "[576 rows x 2 columns]\n"
     ]
    }
   ],
   "source": [
    "# row_column_df = pd.DataFrame(columns=['row','col'])\n",
    "\n",
    "row =  list(string.ascii_uppercase[0:8])\n",
    "column = list(range(1,13))\n",
    "plate = image_list_df['FileName_RGB'].to_list()\n",
    "\n",
    "row_column_list = []\n",
    "\n",
    "\n",
    "for p in plate:\n",
    "    for c in column:\n",
    "        for r in row:\n",
    "            array_i = [r,c]\n",
    "            row_column_list.append(array_i)\n",
    "\n",
    "row_column_df = pd.DataFrame(row_column_list, columns = ['row', 'col']) \n",
    "\n",
    "print(row_column_df)"
   ]
  },
  {
   "cell_type": "markdown",
   "metadata": {},
   "source": [
    "Add images names to data (thank you CellProfiler for convenience)"
   ]
  },
  {
   "cell_type": "markdown",
   "metadata": {},
   "source": [
    "Percents"
   ]
  },
  {
   "cell_type": "code",
   "execution_count": null,
   "metadata": {},
   "outputs": [],
   "source": [
    "data_full_df =  pd.merge(data_raw_df, image_list_df, on='ImageNumber') #Data with image names (FileName_RGB)\n",
    "data_indexed = pd.concat([row_column_df, data_full_df], axis=1, join='inner') #Data with image names (FileName_RGB) and cell indexes (row,col)\n",
    "\n",
    "data_indexed['col']=data_indexed['col'].astype(str) #Otherwise everything will break\n",
    "\n",
    "data_plate = pd.merge(data_indexed, wellmaps_df, on=['FileName_RGB','row','col']) #Data with image names (FileName_RGB), cell indexes and wellmap\n",
    "data_plate[[\"conc_pc\"]] = data_plate[[\"conc_pc\"]].apply(pd.to_numeric)\n",
    "\n",
    "print(data_plate)"
   ]
  },
  {
   "cell_type": "markdown",
   "metadata": {},
   "source": [
    "Micromoles"
   ]
  },
  {
   "cell_type": "code",
   "execution_count": 151,
   "metadata": {},
   "outputs": [
    {
     "name": "stdout",
     "output_type": "stream",
     "text": [
      "Index(['row', 'col', 'ImageNumber', 'ObjectNumber',\n",
      "       'Intensity_IntegratedIntensity_OrigGreen',\n",
      "       'Intensity_IntegratedIntensity_OrigRed',\n",
      "       'Intensity_MeanIntensity_OrigGreen', 'Intensity_MeanIntensity_OrigRed',\n",
      "       'Intensity_StdIntensity_OrigGreen', 'Intensity_StdIntensity_OrigRed',\n",
      "       'FileName_RGB', 'well', 'well0', 'row_i', 'col_j', 'blank', 'conc_uM',\n",
      "       'cells', 'RZ_incubation', 'substance_incubation', 'culture_type',\n",
      "       'control', 'sample'],\n",
      "      dtype='object')\n"
     ]
    }
   ],
   "source": [
    "data_full_df =  pd.merge(data_raw_df, image_list_df, on='ImageNumber') #Data with image names (FileName_RGB)\n",
    "data_indexed = pd.concat([row_column_df, data_full_df], axis=1, join='inner') #Data with image names (FileName_RGB) and cell indexes (row,col)\n",
    "\n",
    "data_indexed['col']=data_indexed['col'].astype(str) #Otherwise everything will break\n",
    "\n",
    "data_plate = pd.merge(data_indexed, wellmaps_df, on=['FileName_RGB','row','col']) #Data with image names (FileName_RGB), cell indexes and wellmap\n",
    "data_plate[[\"conc_uM\"]] = data_plate[[\"conc_uM\"]].apply(pd.to_numeric)\n",
    "\n",
    "print(data_plate.columns)"
   ]
  },
  {
   "cell_type": "code",
   "execution_count": 152,
   "metadata": {},
   "outputs": [
    {
     "name": "stdout",
     "output_type": "stream",
     "text": [
      "['GA-702' 'GA-702 dark' 'GA-702 preUV']\n"
     ]
    }
   ],
   "source": [
    "sample_list = data_plate['sample'].unique()\n",
    "\n",
    "print(sample_list)\n",
    "\n",
    "#Нужно в цикле на каждый сампл делать коррекцию, а потом собирать их в новый датафрейм аппендом. Криво, но как лучше не знаю"
   ]
  },
  {
   "cell_type": "markdown",
   "metadata": {},
   "source": [
    "0H plate as a reference plate"
   ]
  },
  {
   "cell_type": "code",
   "execution_count": null,
   "metadata": {},
   "outputs": [],
   "source": [
    "reference_plate = data_plate[(data_plate['RZ_incubation'] == '0H')].copy()\n",
    "\n",
    "# print(reference_plate)\n",
    "\n",
    "heatmap_df = reference_plate.pivot(index=\"row\", columns=\"col\", values=\"Intensity_IntegratedIntensity_OrigGreen\")\n",
    "\n",
    "sns.heatmap(heatmap_df, linewidth=.5, vmin=0, vmax=None)\n",
    "\n",
    "# print(reference_plate['Intensity_IntegratedIntensity_OrigGreen'])"
   ]
  },
  {
   "cell_type": "code",
   "execution_count": null,
   "metadata": {},
   "outputs": [],
   "source": [
    "p = \"2024-07-29 RZ hTERT SPH Slovesnova 0H (Multichannel).tif\"\n",
    "\n",
    "mean = reference_plate[(reference_plate['FileName_RGB'] == p)].loc[:,'Intensity_MeanIntensity_OrigGreen'].mean()\n",
    "\n",
    "print(mean)\n",
    "\n",
    "reference_plate['Mean_dif'] = reference_plate['Intensity_MeanIntensity_OrigGreen']/mean\n",
    "\n",
    "reference_plate['Mean_corr'] = reference_plate['Intensity_MeanIntensity_OrigGreen']/reference_plate['Mean_dif'] \n",
    "\n",
    "print(reference_plate['Mean_dif'])\n",
    "\n",
    "heatmap_df = reference_plate.pivot(index=\"row\", columns=\"col\", values=\"Mean_dif\")\n",
    "\n",
    "sns.heatmap(heatmap_df, linewidth=.5, vmax=1.2, vmin=0.80 )\n",
    "\n",
    "\n",
    "plt.show()\n"
   ]
  },
  {
   "cell_type": "code",
   "execution_count": null,
   "metadata": {},
   "outputs": [],
   "source": [
    "sample_plate = data_plate[(data_plate['RZ_incubation'] == '24H')].copy().reset_index(drop=True)\n",
    "\n",
    "heatmap_df = sample_plate.pivot(index=\"row\", columns=\"col\", values=\"Intensity_IntegratedIntensity_OrigGreen\")\n",
    "\n",
    "sns.heatmap(heatmap_df, linewidth=.5, vmin=0, vmax=None)\n",
    "\n",
    "print(sample_plate)"
   ]
  },
  {
   "cell_type": "code",
   "execution_count": null,
   "metadata": {},
   "outputs": [],
   "source": [
    "sample_plate['Mean_dif'] = reference_plate['Mean_dif']\n",
    "\n",
    "sample_plate['Mean_corr'] = sample_plate['Intensity_MeanIntensity_OrigGreen']*sample_plate['Mean_dif']\n",
    "\n",
    "print(sample_plate['Mean_corr'])\n",
    "\n",
    "heatmap_df = sample_plate.pivot(index=\"row\", columns=\"col\", values=\"Mean_corr\")\n",
    "\n",
    "# sns.heatmap(heatmap_df, linewidth=.5, vmin=0, vmax=None)\n",
    "\n",
    "p = \"2024-07-29 RZ hTERT SPH Slovesnova 0H (Multichannel).tif\"\n",
    "\n",
    "mean_sample = sample_plate[(sample_plate['FileName_RGB'] == p)].loc[:,'Intensity_MeanIntensity_OrigGreen'].mean()\n",
    "\n",
    "sample_plate['Mean_dif_to_mean'] = sample_plate['Intensity_MeanIntensity_OrigGreen']/mean_sample\n",
    "\n",
    "sample_plate['Mean_dif_to_mean'] = sample_plate['Intensity_MeanIntensity_OrigGreen']/mean_sample\n",
    "\n",
    "sample_plate['Mean_corr'] = sample_plate['Intensity_MeanIntensity_OrigGreen']/reference_plate['Mean_dif'] \n",
    "\n",
    "sample_plate['Mean_corr_dif'] = sample_plate['Mean_corr']/mean_sample\n",
    "\n",
    "\n",
    "heatmap_df = sample_plate.pivot(index=\"row\", columns=\"col\", values=\"Mean_corr\")\n",
    "\n",
    "sns.heatmap(heatmap_df, linewidth=.5 )\n",
    "\n",
    "\n",
    "plt.show()\n"
   ]
  },
  {
   "cell_type": "code",
   "execution_count": null,
   "metadata": {},
   "outputs": [],
   "source": [
    "# row_drop_list = ['A','H']\n",
    "\n",
    "# cleared_data = sample_plate[~sample_plate['row'].isin(row_drop_list)]\n",
    "\n",
    "cleared_data = sample_plate[sample_plate['blank']=='No']\n",
    "\n",
    "well_drop_list = ['']\n",
    "\n",
    "ax = sns.boxplot(data=cleared_data, x=\"conc_pc\", y=\"Intensity_MeanIntensity_OrigGreen\", hue = 'substance', palette=['r'])\n",
    "\n",
    "ay = sns.boxplot(data=cleared_data, x=\"conc_pc\", y=\"Mean_corr\", hue = 'substance')"
   ]
  },
  {
   "cell_type": "code",
   "execution_count": null,
   "metadata": {},
   "outputs": [],
   "source": [
    "# row_drop_list = ['A','H']\n",
    "\n",
    "# cleared_data = sample_plate[~sample_plate['row'].isin(row_drop_list)]\n",
    "\n",
    "cleared_data = sample_plate[sample_plate['blank']=='No']\n",
    "\n",
    "well_drop_list = ['']\n",
    "\n",
    "ax = sns.boxplot(data=cleared_data, x=\"sample\", y=\"Intensity_MeanIntensity_OrigGreen\", palette=['r'])\n",
    "\n",
    "ay = sns.boxplot(data=cleared_data, x=\"sample\", y=\"Mean_corr\")"
   ]
  },
  {
   "cell_type": "code",
   "execution_count": null,
   "metadata": {},
   "outputs": [],
   "source": [
    "\n",
    "# ax = sns.relplot(data=cleared_data, x=\"conc_pc\", y=\"Intensity_MeanIntensity_OrigGreen\", hue = 'substance', palette=['r'],  kind=\"line\")\n",
    "\n",
    "ay = sns.relplot(data=cleared_data, x=\"sample\", y=\"Mean_corr\", hue = 'substance',  kind=\"line\")\n",
    "# ay = sns.stripplot(data=cleared_data, x=\"conc_pc\", y=\"Mean_corr\", hue = 'substance')\n",
    "\n",
    "# ax.set(xscale=\"symlog\")\n",
    "# ay.set(xscale=\"symlog\")\n",
    "\n",
    "# ax.set(xlim=(0, 200))\n",
    "# ay.set(xlim=(0, 200))"
   ]
  },
  {
   "cell_type": "code",
   "execution_count": null,
   "metadata": {},
   "outputs": [],
   "source": [
    "ax = sns.swarmplot(data=cleared_data, x=\"sample\", y=\"Intensity_MeanIntensity_OrigGreen\", palette=['r'])\n",
    "\n",
    "ay = sns.swarmplot(data=cleared_data, x=\"sample\", y=\"Mean_corr\")\n"
   ]
  },
  {
   "cell_type": "markdown",
   "metadata": {},
   "source": [
    "Blank and control calculation for each plate"
   ]
  },
  {
   "cell_type": "code",
   "execution_count": null,
   "metadata": {},
   "outputs": [],
   "source": [
    "blank_array = []\n",
    "\n",
    "p = \"2024-07-29 RZ hTERT SPH Slovesnova 24H (Multichannel).tif\"\n",
    "\n",
    "\n",
    "\n",
    "blank_p = sample_plate[(sample_plate['blank'] == 'Yes') & (sample_plate['FileName_RGB'] == p)].loc[:,'Mean_corr'].mean()\n",
    "blank_std_p = sample_plate[(sample_plate['blank'] == 'Yes') & (sample_plate['FileName_RGB'] == p)].loc[:,'Mean_corr'].std()\n",
    "\n",
    "bc_array_i = [blank_p, blank_std_p ,p]\n",
    "\n",
    "blank_array.append(bc_array_i)\n",
    "\n",
    "blank_df = pd.DataFrame(blank_array, columns = ['blank_mean','blank_std','FileName_RGB']) \n",
    "\n",
    "data_plate_with_blank = pd.merge(sample_plate, blank_df, on=['FileName_RGB'])\n",
    "\n"
   ]
  },
  {
   "cell_type": "code",
   "execution_count": null,
   "metadata": {},
   "outputs": [],
   "source": [
    "data_plate_with_blank['Green_blanked'] = data_plate_with_blank['Mean_corr'] - data_plate_with_blank['blank_mean']\n",
    "\n",
    "\n",
    "data_plate_wo_blank = data_plate_with_blank[data_plate_with_blank.blank == 'No'].copy() #dataframe without blank\n",
    "\n",
    "control_array = []\n",
    "\n",
    "control_p = data_plate_wo_blank[(data_plate_wo_blank['control'] == 'Yes') \n",
    "                                & (data_plate_wo_blank['blank'] == 'No') & \n",
    "                                (data_plate_wo_blank['FileName_RGB'] == p)].loc[:,'Green_blanked'].mean()\n",
    "\n",
    "control_std_p = data_plate_wo_blank[(data_plate_wo_blank['control'] == 'Yes') \n",
    "                                    & (data_plate_wo_blank['blank'] == 'No') & \n",
    "                                    (data_plate_wo_blank['FileName_RGB'] == p)].loc[:,'Green_blanked'].std()\n",
    "\n",
    "bc_array_i = [control_p,control_std_p,p]\n",
    "\n",
    "control_array.append(bc_array_i)\n",
    "\n",
    "control_df = pd.DataFrame(control_array, columns = ['control_mean', 'control_std','FileName_RGB']) \n",
    "\n",
    "print(control_df)\n",
    "\n",
    "data_plate_with_control = pd.merge(data_plate_wo_blank, control_df, on=['FileName_RGB'])\n",
    "\n",
    "data_plate_with_control['Green_relative'] = data_plate_with_control['Green_blanked']/data_plate_with_control['control_mean']*100\n",
    "\n",
    "\n",
    "print(data_plate_with_control[(data_plate_with_control['control'] == 'Yes') \n",
    "                                & (data_plate_with_control['blank'] == 'No') & \n",
    "                                (data_plate_with_control['FileName_RGB'] == p)].loc[:,'Green_relative'])"
   ]
  },
  {
   "cell_type": "markdown",
   "metadata": {},
   "source": [
    "Plotting\n"
   ]
  },
  {
   "cell_type": "code",
   "execution_count": null,
   "metadata": {},
   "outputs": [],
   "source": [
    "\n",
    "# row_drop_list = ['A','H']\n",
    "\n",
    "row_drop_list = []\n",
    "\n",
    "cleared_data = data_plate_with_control[~data_plate_with_control['row'].isin(row_drop_list)]\n",
    "\n",
    "ax = sns.relplot(data=cleared_data, x=\"conc_pc\", y=\"Green_relative\", kind=\"line\", hue = 'substance')\n",
    "\n",
    "# ax.set(xlabel=None, ylabel='Viable cell, % of control')\n",
    "\n",
    "ax.set(xlabel='Concentration, pc', ylabel='Cell viability relative to control, %')\n",
    "# ax.set(xscale=\"symlog\")\n",
    "\n",
    "# ax.set(xlim=(0, 200),ylim = (0,120))\n",
    "\n",
    "# plt.show()\n",
    "\n"
   ]
  },
  {
   "cell_type": "code",
   "execution_count": null,
   "metadata": {},
   "outputs": [],
   "source": [
    "ax = sns.boxplot(data=data_plate_with_control, x=\"sample\", y=\"Green_relative\")\n",
    "ax.set(ylim = (0,None))"
   ]
  }
 ],
 "metadata": {
  "kernelspec": {
   "display_name": "Python 3",
   "language": "python",
   "name": "python3"
  },
  "language_info": {
   "codemirror_mode": {
    "name": "ipython",
    "version": 3
   },
   "file_extension": ".py",
   "mimetype": "text/x-python",
   "name": "python",
   "nbconvert_exporter": "python",
   "pygments_lexer": "ipython3",
   "version": "3.12.4"
  }
 },
 "nbformat": 4,
 "nbformat_minor": 2
}
