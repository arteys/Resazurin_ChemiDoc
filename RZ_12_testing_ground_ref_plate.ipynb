{
 "cells": [
  {
   "cell_type": "code",
   "execution_count": null,
   "metadata": {},
   "outputs": [],
   "source": [
    "import wellmap\n",
    "import pandas as pd\n",
    "import os\n",
    "import string\n",
    "import seaborn as sns\n",
    "from os import listdir\n",
    "from os.path import isfile, join\n",
    "import matplotlib.pyplot as plt"
   ]
  },
  {
   "cell_type": "markdown",
   "metadata": {},
   "source": [
    "New for multiple images in CP file"
   ]
  },
  {
   "cell_type": "code",
   "execution_count": null,
   "metadata": {},
   "outputs": [],
   "source": [
    "part_to_folder = r\"C:\\Users\\Modern\\Documents\\Biorad\\CellProfiler\\Results\\2024-08-08 RZ hTERT DMSO\"\n",
    "\n",
    "# files = [f for f in listdir(part_to_folder) if isfile(join(part_to_folder, f))]\n",
    "\n",
    "image_list_path = os.path.join(part_to_folder, \"ExpImage.csv\")\n",
    "data_path  = os.path.join(part_to_folder, \"ExpWells_plate.csv\")\n",
    "\n",
    "data_raw_df = pd.read_csv(data_path) \n",
    "image_list_df = pd.read_csv(image_list_path) \n",
    "\n",
    "print(image_list_df)\n"
   ]
  },
  {
   "cell_type": "markdown",
   "metadata": {},
   "source": [
    "Extract wellmaps and combine into one df with names of the images"
   ]
  },
  {
   "cell_type": "code",
   "execution_count": null,
   "metadata": {},
   "outputs": [],
   "source": [
    "wellmap_path_list = []\n",
    "\n",
    "for file in os.listdir(part_to_folder):\n",
    "    if file.endswith(\".toml\"):\n",
    "        wellmap_path_list.append(os.path.join(part_to_folder, file))\n",
    "        # wellmap_path_list.append(file)\n",
    "\n",
    "print(wellmap_path_list[0])\n",
    "\n",
    "wellmap_df = wellmap.load(wellmap_path_list[0]) \n",
    "\n",
    "wellmap_list = []\n",
    "\n",
    "for file in wellmap_path_list:\n",
    "    wellmap_i = wellmap.load(file)\n",
    "    wellmap_list.append(wellmap_i)\n",
    "\n",
    "wellmaps_df = pd.concat(wellmap_list, axis=0, ignore_index=True)\n",
    "# print(wellmaps_df)\n",
    "\n",
    "wellmap.show(file);\n",
    "plt.show();"
   ]
  },
  {
   "cell_type": "markdown",
   "metadata": {},
   "source": [
    "Generating labels for wells"
   ]
  },
  {
   "cell_type": "code",
   "execution_count": null,
   "metadata": {},
   "outputs": [],
   "source": [
    "# row_column_df = pd.DataFrame(columns=['row','col'])\n",
    "\n",
    "row =  list(string.ascii_uppercase[0:8])\n",
    "column = list(range(1,13))\n",
    "plate = image_list_df['FileName_RGB'].to_list()\n",
    "\n",
    "row_column_list = []\n",
    "\n",
    "\n",
    "for p in plate:\n",
    "    for c in column:\n",
    "        for r in row:\n",
    "            array_i = [r,c]\n",
    "            row_column_list.append(array_i)\n",
    "\n",
    "row_column_df = pd.DataFrame(row_column_list, columns = ['row', 'col']) \n",
    "\n",
    "print(row_column_df)"
   ]
  },
  {
   "cell_type": "markdown",
   "metadata": {},
   "source": [
    "Add images names to data (thank you CellProfiler for convenience)"
   ]
  },
  {
   "cell_type": "markdown",
   "metadata": {},
   "source": [
    "Percents"
   ]
  },
  {
   "cell_type": "code",
   "execution_count": null,
   "metadata": {},
   "outputs": [],
   "source": [
    "data_full_df =  pd.merge(data_raw_df, image_list_df, on='ImageNumber') #Data with image names (FileName_RGB)\n",
    "data_indexed = pd.concat([row_column_df, data_full_df], axis=1, join='inner') #Data with image names (FileName_RGB) and cell indexes (row,col)\n",
    "\n",
    "data_indexed['col']=data_indexed['col'].astype(str) #Otherwise everything will break\n",
    "\n",
    "data_plate = pd.merge(data_indexed, wellmaps_df, on=['FileName_RGB','row','col']) #Data with image names (FileName_RGB), cell indexes and wellmap\n",
    "data_plate[[\"conc_pc\"]] = data_plate[[\"conc_pc\"]].apply(pd.to_numeric)\n",
    "\n",
    "print(data_plate.columns)\n"
   ]
  },
  {
   "cell_type": "markdown",
   "metadata": {},
   "source": [
    "Micromoles"
   ]
  },
  {
   "cell_type": "code",
   "execution_count": null,
   "metadata": {},
   "outputs": [],
   "source": [
    "data_full_df =  pd.merge(data_raw_df, image_list_df, on='ImageNumber') #Data with image names (FileName_RGB)\n",
    "data_indexed = pd.concat([row_column_df, data_full_df], axis=1, join='inner') #Data with image names (FileName_RGB) and cell indexes (row,col)\n",
    "\n",
    "data_indexed['col']=data_indexed['col'].astype(str) #Otherwise everything will break\n",
    "\n",
    "data_plate = pd.merge(data_indexed, wellmaps_df, on=['FileName_RGB','row','col']) #Data with image names (FileName_RGB), cell indexes and wellmap\n",
    "data_plate[[\"conc_uM\"]] = data_plate[[\"conc_uM\"]].apply(pd.to_numeric)\n",
    "\n",
    "print(data_plate.columns)\n",
    "print(data_plate['sample'].unique())"
   ]
  },
  {
   "cell_type": "code",
   "execution_count": null,
   "metadata": {},
   "outputs": [],
   "source": [
    "cul_type_list = data_plate['culture_type'].unique()\n",
    "\n",
    "data_plate_corrected = data_plate.iloc[:0,:].copy()  #Clone of plates df but empty\n",
    "\n",
    "print(cul_type_list)\n",
    "\n",
    "for c_type in cul_type_list:\n",
    "    data_plate_i = data_plate[(data_plate['culture_type'] == c_type)]\n",
    "    reference_plate = data_plate_i[(data_plate_i['RZ_incubation'] == '0H')]\n",
    "    sample_plate = data_plate_i[(data_plate_i['RZ_incubation'] != '0H')]\n",
    "\n",
    "    reference_plate = reference_plate.reset_index(drop=True)\n",
    "    sample_plate = sample_plate.reset_index(drop=True)\n",
    "\n",
    "    mean = reference_plate['Intensity_IntegratedIntensity_OrigGreen'].mean()\n",
    "    \n",
    "    reference_plate['Mean_dif'] = reference_plate['Intensity_MeanIntensity_OrigGreen']/mean\n",
    "\n",
    "    sample_plate['Mean_corr'] = sample_plate['Intensity_MeanIntensity_OrigGreen']/reference_plate['Mean_dif'] \n",
    "\n",
    "\n",
    "    data_plate_corrected = data_plate_corrected.append(sample_plate)\n",
    "\n"
   ]
  },
  {
   "cell_type": "code",
   "execution_count": null,
   "metadata": {},
   "outputs": [],
   "source": [
    "sample_list = data_plate['sample'].unique()\n",
    "\n",
    "data_plate_corrected = data_plate.iloc[:0,:].copy()  #Clone of plates df but empty\n",
    "\n",
    "print(sample_list)\n",
    "\n",
    "for sample in sample_list:\n",
    "    data_plate_i = data_plate[(data_plate['sample'] == sample)]\n",
    "    reference_plate = data_plate_i[(data_plate_i['RZ_incubation'] == '0H')]\n",
    "    sample_plate = data_plate_i[(data_plate_i['RZ_incubation'] != '0H')]\n",
    "\n",
    "    reference_plate = reference_plate.reset_index(drop=True)\n",
    "    sample_plate = sample_plate.reset_index(drop=True)\n",
    "\n",
    "    mean = reference_plate['Intensity_IntegratedIntensity_OrigGreen'].mean()\n",
    "    \n",
    "    reference_plate['Mean_dif'] = reference_plate['Intensity_MeanIntensity_OrigGreen']/mean\n",
    "\n",
    "    sample_plate['Mean_corr'] = sample_plate['Intensity_MeanIntensity_OrigGreen']/reference_plate['Mean_dif'] \n",
    "\n",
    "\n",
    "    data_plate_corrected = data_plate_corrected.append(sample_plate)\n",
    "\n"
   ]
  },
  {
   "cell_type": "code",
   "execution_count": null,
   "metadata": {},
   "outputs": [],
   "source": [
    "ay = sns.swarmplot(data=data_plate_corrected, x=\"conc_uM\", y=\"Mean_corr\", hue = 'sample')"
   ]
  },
  {
   "cell_type": "code",
   "execution_count": null,
   "metadata": {},
   "outputs": [],
   "source": [
    "ay = sns.swarmplot(data=data_plate_corrected, x=\"conc_pc\", y=\"Mean_corr\", hue = 'culture_type')"
   ]
  },
  {
   "cell_type": "code",
   "execution_count": null,
   "metadata": {},
   "outputs": [],
   "source": [
    "blank_array = []\n",
    "\n",
    "plate_list = data_plate_corrected['FileName_RGB'].unique()\n",
    "print(plate_list)\n",
    "\n",
    "for p in plate_list:\n",
    "    blank_p = data_plate_corrected[(data_plate_corrected['blank'] == 'Yes') & \n",
    "                                   (data_plate_corrected['FileName_RGB'] == p)].loc[:,'Mean_corr'].mean()\n",
    "    \n",
    "    blank_std_p = data_plate_corrected[(data_plate_corrected['blank'] == 'Yes') \n",
    "                                       & (data_plate_corrected['FileName_RGB'] == p)].loc[:,'Mean_corr'].std()\n",
    "\n",
    "    bc_array_i = [blank_p, blank_std_p ,p]\n",
    "\n",
    "    print(bc_array_i)\n",
    "\n",
    "    blank_array.append(bc_array_i)\n",
    "\n",
    "    blank_df = pd.DataFrame(blank_array, columns = ['blank_mean','blank_std','FileName_RGB']) \n",
    "\n",
    "data_plate_with_blank_values = pd.merge(data_plate_corrected, blank_df, on=['FileName_RGB'])\n",
    "\n"
   ]
  },
  {
   "cell_type": "code",
   "execution_count": null,
   "metadata": {},
   "outputs": [],
   "source": [
    "data_plate_with_blank_values['Green_blanked'] = data_plate_with_blank_values['Mean_corr'] - data_plate_with_blank_values['blank_mean']\n",
    "\n",
    "data_plate_wo_blank = data_plate_with_blank_values[data_plate_with_blank_values.blank == 'No'].copy() #dataframe without blank\n",
    "\n",
    "control_array = []\n",
    "\n",
    "for p in plate_list:\n",
    "    control_p = data_plate_wo_blank[(data_plate_wo_blank['control'] == 'Yes') & \n",
    "                                    (data_plate_wo_blank['FileName_RGB'] == p)].loc[:,'Green_blanked'].mean()\n",
    "\n",
    "    control_std_p = data_plate_wo_blank[(data_plate_wo_blank['control'] == 'Yes') & \n",
    "                                        (data_plate_wo_blank['FileName_RGB'] == p)].loc[:,'Green_blanked'].std()\n",
    "    \n",
    "\n",
    "    ctr_array_i = [control_p, control_std_p ,p]\n",
    "\n",
    "\n",
    "    control_array.append(ctr_array_i)\n",
    "\n",
    "    control_df = pd.DataFrame(control_array, columns = ['control_mean','control_std','FileName_RGB']) \n",
    "\n",
    "print(control_df)\n",
    "\n",
    "data_plate_with_control = pd.merge(data_plate_wo_blank, control_df, on=['FileName_RGB'])\n"
   ]
  },
  {
   "cell_type": "code",
   "execution_count": null,
   "metadata": {},
   "outputs": [],
   "source": [
    "data_plate_with_control['Green_relative'] = data_plate_with_control['Green_blanked']/data_plate_with_control['control_mean']*100\n",
    "\n",
    "ax = sns.relplot(data=data_plate_with_control, x=\"conc_uM\", y=\"Green_relative\", hue = 'sample',  kind=\"line\")\n",
    "\n",
    "ax.set(xscale=\"symlog\")\n",
    "\n",
    "ax.set(xlim=(0, 10),ylim = (0,120))\n",
    "\n",
    "ax.set(xlabel='Concentration, uM', ylabel='Cell viability relative to control, %')\n",
    "\n",
    "plt.show()\n"
   ]
  },
  {
   "cell_type": "code",
   "execution_count": null,
   "metadata": {},
   "outputs": [],
   "source": [
    "data_plate_with_control['Green_relative'] = data_plate_with_control['Green_blanked']/data_plate_with_control['control_mean']*100\n",
    "\n",
    "ax = sns.relplot(data=data_plate_with_control, x=\"conc_pc\", y=\"Green_relative\", hue = 'culture_type',  kind=\"line\")\n",
    "\n",
    "# ax.set(xscale=\"symlog\")\n",
    "\n",
    "# ax.set(xlim=(0, 10),ylim = (0,120))\n",
    "\n",
    "ax.set(xlabel='Concentration, pc', ylabel='Cell viability relative to control, %')\n",
    "\n",
    "plt.show()"
   ]
  },
  {
   "cell_type": "code",
   "execution_count": null,
   "metadata": {},
   "outputs": [],
   "source": [
    "ax = sns.boxplot(data=data_plate_with_control, x=\"conc_uM\", y=\"Green_relative\", hue = 'sample')\n",
    "\n",
    "\n",
    "ax.set(xlim=(-1, None),ylim = (0,130))"
   ]
  },
  {
   "cell_type": "code",
   "execution_count": 40,
   "metadata": {},
   "outputs": [
    {
     "data": {
      "text/plain": [
       "[(-1.0, 5.5), (0.0, 130.0)]"
      ]
     },
     "execution_count": 40,
     "metadata": {},
     "output_type": "execute_result"
    },
    {
     "data": {
      "image/png": "[encoded data removed]",
      "text/plain": [
       "<Figure size 640x480 with 1 Axes>"
      ]
     },
     "metadata": {},
     "output_type": "display_data"
    }
   ],
   "source": [
    "ax = sns.boxplot(data=data_plate_with_control, x=\"conc_pc\", y=\"Green_relative\", hue = 'culture_type')\n",
    "\n",
    "\n",
    "ax.set(xlim=(-1, None),ylim = (0,130))"
   ]
  },
  {
   "cell_type": "code",
   "execution_count": 42,
   "metadata": {},
   "outputs": [],
   "source": [
    "file_name = part_to_folder + '/data_processed.csv'\n",
    "\n",
    "data_plate_with_control.to_csv(file_name)"
   ]
  }
 ],
 "metadata": {
  "kernelspec": {
   "display_name": "Python 3",
   "language": "python",
   "name": "python3"
  },
  "language_info": {
   "codemirror_mode": {
    "name": "ipython",
    "version": 3
   },
   "file_extension": ".py",
   "mimetype": "text/x-python",
   "name": "python",
   "nbconvert_exporter": "python",
   "pygments_lexer": "ipython3",
   "version": "3.12.4"
  }
 },
 "nbformat": 4,
 "nbformat_minor": 2
}
