{
 "cells": [
  {
   "cell_type": "code",
   "execution_count": null,
   "metadata": {},
   "outputs": [],
   "source": [
    "import wellmap\n",
    "import pandas as pd\n",
    "import os\n",
    "import string\n",
    "import seaborn as sns\n",
    "from os import listdir\n",
    "from os.path import isfile, join\n",
    "import matplotlib.pyplot as plt"
   ]
  },
  {
   "cell_type": "markdown",
   "metadata": {},
   "source": [
    "New for multiple images in CP file"
   ]
  },
  {
   "cell_type": "code",
   "execution_count": null,
   "metadata": {},
   "outputs": [],
   "source": [
    "part_to_folder = r\"C:\\Users\\Modern\\Documents\\Biorad\\CellProfiler\\Results\\2024-07-24 Vero Rd hTERT CK-99c ISK-1 + CK-122 Slovesnova\\0H plates\"\n",
    "\n",
    "# files = [f for f in listdir(part_to_folder) if isfile(join(part_to_folder, f))]\n",
    "\n",
    "image_list_path = os.path.join(part_to_folder, \"ExpImage.csv\")\n",
    "data_path  = os.path.join(part_to_folder, \"ExpWells_plate.csv\")\n",
    "\n",
    "data_raw_df = pd.read_csv(data_path) \n",
    "image_list_df = pd.read_csv(image_list_path) \n",
    "\n",
    "print(image_list_df)\n"
   ]
  },
  {
   "cell_type": "markdown",
   "metadata": {},
   "source": [
    "Extract wellmaps and combine into one df with names of the images"
   ]
  },
  {
   "cell_type": "code",
   "execution_count": null,
   "metadata": {},
   "outputs": [],
   "source": [
    "wellmap_path_list = []\n",
    "\n",
    "for file in os.listdir(part_to_folder):\n",
    "    if file.endswith(\".toml\"):\n",
    "        wellmap_path_list.append(os.path.join(part_to_folder, file))\n",
    "        # wellmap_path_list.append(file)\n",
    "\n",
    "print(wellmap_path_list[0])\n",
    "\n",
    "wellmap_df = wellmap.load(wellmap_path_list[0]) \n",
    "\n",
    "wellmap_list = []\n",
    "\n",
    "for file in wellmap_path_list:\n",
    "    wellmap_i = wellmap.load(file)\n",
    "    wellmap_list.append(wellmap_i)\n",
    "\n",
    "wellmaps_df = pd.concat(wellmap_list, axis=0, ignore_index=True)\n",
    "# print(wellmaps_df)\n",
    "\n",
    "wellmap.show(file);\n",
    "plt.show();"
   ]
  },
  {
   "cell_type": "markdown",
   "metadata": {},
   "source": [
    "Generating labels for wells"
   ]
  },
  {
   "cell_type": "code",
   "execution_count": null,
   "metadata": {},
   "outputs": [],
   "source": [
    "# row_column_df = pd.DataFrame(columns=['row','col'])\n",
    "\n",
    "row =  list(string.ascii_uppercase[0:8])\n",
    "column = list(range(1,13))\n",
    "plate = image_list_df['FileName_RGB'].to_list()\n",
    "\n",
    "row_column_list = []\n",
    "\n",
    "\n",
    "for p in plate:\n",
    "    for c in column:\n",
    "        for r in row:\n",
    "            array_i = [r,c]\n",
    "            row_column_list.append(array_i)\n",
    "\n",
    "row_column_df = pd.DataFrame(row_column_list, columns = ['row', 'col']) \n",
    "\n",
    "print(row_column_df)"
   ]
  },
  {
   "cell_type": "markdown",
   "metadata": {},
   "source": [
    "Add images names to data (thank you CellProfiler for convenience)"
   ]
  },
  {
   "cell_type": "code",
   "execution_count": 49,
   "metadata": {},
   "outputs": [
    {
     "name": "stdout",
     "output_type": "stream",
     "text": [
      "Index(['row', 'col', 'ImageNumber', 'ObjectNumber',\n",
      "       'Intensity_IntegratedIntensity_OrigGreen',\n",
      "       'Intensity_IntegratedIntensity_OrigRed',\n",
      "       'Intensity_MeanIntensity_OrigGreen', 'Intensity_MeanIntensity_OrigRed',\n",
      "       'Intensity_StdIntensity_OrigGreen', 'Intensity_StdIntensity_OrigRed',\n",
      "       'FileName_RGB', 'well', 'well0', 'row_i', 'col_j', 'blank', 'conc_uM',\n",
      "       'cells', 'uv', 'RZ_incubation', 'substance', 'substance_incubation',\n",
      "       'culture_type', 'control'],\n",
      "      dtype='object')\n"
     ]
    }
   ],
   "source": [
    "data_full_df =  pd.merge(data_raw_df, image_list_df, on='ImageNumber') #Data with image names (FileName_RGB)\n",
    "data_indexed = pd.concat([row_column_df, data_full_df], axis=1, join='inner') #Data with image names (FileName_RGB) and cell indexes (row,col)\n",
    "\n",
    "data_indexed['col']=data_indexed['col'].astype(str) #Otherwise everything will break\n",
    "\n",
    "data_plate = pd.merge(data_indexed, wellmaps_df, on=['FileName_RGB','row','col']) #Data with image names (FileName_RGB), cell indexes and wellmap\n",
    "data_plate[[\"conc_uM\"]] = data_plate[[\"conc_uM\"]].apply(pd.to_numeric)\n",
    "\n",
    "print(data_plate.columns)"
   ]
  },
  {
   "cell_type": "markdown",
   "metadata": {},
   "source": [
    "0H plate as a reference plate"
   ]
  },
  {
   "cell_type": "code",
   "execution_count": 37,
   "metadata": {},
   "outputs": [
    {
     "name": "stdout",
     "output_type": "stream",
     "text": [
      "0     2024-07-24 hTERT ISK-1 0H (Multichannel).tif\n",
      "1     2024-07-24 hTERT ISK-1 0H (Multichannel).tif\n",
      "2     2024-07-24 hTERT ISK-1 0H (Multichannel).tif\n",
      "3     2024-07-24 hTERT ISK-1 0H (Multichannel).tif\n",
      "4     2024-07-24 hTERT ISK-1 0H (Multichannel).tif\n",
      "                          ...                     \n",
      "91    2024-07-24 hTERT ISK-1 0H (Multichannel).tif\n",
      "92    2024-07-24 hTERT ISK-1 0H (Multichannel).tif\n",
      "93    2024-07-24 hTERT ISK-1 0H (Multichannel).tif\n",
      "94    2024-07-24 hTERT ISK-1 0H (Multichannel).tif\n",
      "95    2024-07-24 hTERT ISK-1 0H (Multichannel).tif\n",
      "Name: FileName_RGB, Length: 96, dtype: object\n"
     ]
    },
    {
     "data": {
      "image/png": "[encoded data removed]",
      "text/plain": [
       "<Figure size 640x480 with 2 Axes>"
      ]
     },
     "metadata": {},
     "output_type": "display_data"
    }
   ],
   "source": [
    "reference_plate = data_plate[(data_plate['RZ_incubation'] == '0H')].copy()\n",
    "\n",
    "# print(reference_plate)\n",
    "\n",
    "heatmap_df = reference_plate.pivot(index=\"row\", columns=\"col\", values=\"Intensity_IntegratedIntensity_OrigGreen\")\n",
    "\n",
    "sns.heatmap(heatmap_df, linewidth=.5, vmin=0, vmax=None)\n",
    "\n",
    "print(reference_plate['FileName_RGB'])"
   ]
  },
  {
   "cell_type": "code",
   "execution_count": 74,
   "metadata": {},
   "outputs": [
    {
     "name": "stdout",
     "output_type": "stream",
     "text": [
      "0.012623688210673799\n",
      "0     0.969689\n",
      "1     1.012413\n",
      "2     1.024112\n",
      "3     1.080141\n",
      "4     1.089947\n",
      "        ...   \n",
      "91    0.995381\n",
      "92    0.996012\n",
      "93    1.100155\n",
      "94    1.083639\n",
      "95    1.018263\n",
      "Name: Mean_dif, Length: 96, dtype: float64\n"
     ]
    },
    {
     "data": {
      "image/png": "[encoded data removed]",
      "text/plain": [
       "<Figure size 640x480 with 2 Axes>"
      ]
     },
     "metadata": {},
     "output_type": "display_data"
    }
   ],
   "source": [
    "# mean_array_reference_plate = []\n",
    "\n",
    "# for p in plate:\n",
    "#     mean = reference_plate[(reference_plate['FileName_RGB'] == p)].loc[:,'Intensity_MeanIntensity_OrigRed'].mean()\n",
    "#     print(mean)\n",
    "\n",
    "#     bc_array_i = [mean,p]\n",
    "\n",
    "#     mean_array_reference_plate.append(bc_array_i)\n",
    "\n",
    "\n",
    "# mean_reference_plate = pd.DataFrame(reference_plate, columns = ['mean','FileName_RGB']) \n",
    "\n",
    "mean = reference_plate[(reference_plate['FileName_RGB'] == p)].loc[:,'Intensity_MeanIntensity_OrigGreen'].mean()\n",
    "\n",
    "print(mean)\n",
    "\n",
    "reference_plate['Mean_dif'] = reference_plate['Intensity_MeanIntensity_OrigGreen']/mean\n",
    "\n",
    "reference_plate['Mean_corr'] = reference_plate['Intensity_MeanIntensity_OrigGreen']/reference_plate['Mean_dif'] \n",
    "\n",
    "print(reference_plate['Mean_dif'])\n",
    "\n",
    "heatmap_df = reference_plate.pivot(index=\"row\", columns=\"col\", values=\"Mean_dif\")\n",
    "\n",
    "sns.heatmap(heatmap_df, linewidth=.5, vmax=1.12, vmin=0.80 )\n",
    "\n",
    "\n",
    "plt.show()\n"
   ]
  },
  {
   "cell_type": "code",
   "execution_count": 75,
   "metadata": {},
   "outputs": [
    {
     "name": "stdout",
     "output_type": "stream",
     "text": [
      "    row col  ImageNumber  ObjectNumber  \\\n",
      "96    A   1            2             1   \n",
      "97    B   1            2             2   \n",
      "98    C   1            2             3   \n",
      "99    D   1            2             4   \n",
      "100   E   1            2             5   \n",
      "..   ..  ..          ...           ...   \n",
      "187   D  12            2            92   \n",
      "188   E  12            2            93   \n",
      "189   F  12            2            94   \n",
      "190   G  12            2            95   \n",
      "191   H  12            2            96   \n",
      "\n",
      "     Intensity_IntegratedIntensity_OrigGreen  \\\n",
      "96                                 76.258827   \n",
      "97                                322.329420   \n",
      "98                                319.513734   \n",
      "99                                374.811779   \n",
      "100                               450.203935   \n",
      "..                                       ...   \n",
      "187                               562.717657   \n",
      "188                               607.156873   \n",
      "189                               806.109833   \n",
      "190                               691.941201   \n",
      "191                                99.733338   \n",
      "\n",
      "     Intensity_IntegratedIntensity_OrigRed  Intensity_MeanIntensity_OrigGreen  \\\n",
      "96                             1055.223553                           0.013480   \n",
      "97                              870.870616                           0.056979   \n",
      "98                              918.494142                           0.056481   \n",
      "99                              865.698065                           0.066256   \n",
      "100                             853.823556                           0.079584   \n",
      "..                                     ...                                ...   \n",
      "187                             789.105913                           0.099473   \n",
      "188                             757.572578                           0.107328   \n",
      "189                             681.439235                           0.142498   \n",
      "190                             756.741206                           0.122316   \n",
      "191                            1241.709827                           0.017630   \n",
      "\n",
      "     Intensity_MeanIntensity_OrigRed  Intensity_StdIntensity_OrigGreen  \\\n",
      "96                          0.186534                          0.002417   \n",
      "97                          0.153946                          0.011055   \n",
      "98                          0.162364                          0.011053   \n",
      "99                          0.153031                          0.014917   \n",
      "100                         0.150932                          0.018589   \n",
      "..                               ...                               ...   \n",
      "187                         0.139492                          0.020174   \n",
      "188                         0.133918                          0.019493   \n",
      "189                         0.120459                          0.027986   \n",
      "190                         0.133771                          0.025925   \n",
      "191                         0.219500                          0.003891   \n",
      "\n",
      "     Intensity_StdIntensity_OrigRed  ... col_j blank conc_uM  cells  uv  \\\n",
      "96                         0.033821  ...     0   Yes   100.0  hTERT  No   \n",
      "97                         0.033909  ...     0    No   100.0  hTERT  No   \n",
      "98                         0.039152  ...     0    No   100.0  hTERT  No   \n",
      "99                         0.038003  ...     0    No   100.0  hTERT  No   \n",
      "100                        0.035921  ...     0    No   100.0  hTERT  No   \n",
      "..                              ...  ...   ...   ...     ...    ...  ..   \n",
      "187                        0.028101  ...    11    No     0.0  hTERT  No   \n",
      "188                        0.024655  ...    11    No     0.0  hTERT  No   \n",
      "189                        0.020192  ...    11    No     0.0  hTERT  No   \n",
      "190                        0.024046  ...    11    No     0.0  hTERT  No   \n",
      "191                        0.040024  ...    11   Yes     0.0  hTERT  No   \n",
      "\n",
      "    RZ_incubation  substance substance_incubation culture_type control  \n",
      "96             4H      ISK-1                  24H           ML      No  \n",
      "97             4H      ISK-1                  24H           ML      No  \n",
      "98             4H      ISK-1                  24H           ML      No  \n",
      "99             4H      ISK-1                  24H           ML      No  \n",
      "100            4H      ISK-1                  24H           ML      No  \n",
      "..            ...        ...                  ...          ...     ...  \n",
      "187            4H      ISK-1                  24H           ML     Yes  \n",
      "188            4H      ISK-1                  24H           ML     Yes  \n",
      "189            4H      ISK-1                  24H           ML     Yes  \n",
      "190            4H      ISK-1                  24H           ML     Yes  \n",
      "191            4H      ISK-1                  24H           ML     Yes  \n",
      "\n",
      "[96 rows x 24 columns]\n"
     ]
    },
    {
     "data": {
      "image/png": "[encoded data removed]",
      "text/plain": [
       "<Figure size 640x480 with 2 Axes>"
      ]
     },
     "metadata": {},
     "output_type": "display_data"
    }
   ],
   "source": [
    "sample_plate = data_plate[(data_plate['RZ_incubation'] == '4H')].copy()\n",
    "\n",
    "heatmap_df = sample_plate.pivot(index=\"row\", columns=\"col\", values=\"Intensity_IntegratedIntensity_OrigGreen\")\n",
    "\n",
    "sns.heatmap(heatmap_df, linewidth=.5, vmin=0, vmax=None)\n",
    "\n",
    "print(sample_plate)"
   ]
  },
  {
   "cell_type": "code",
   "execution_count": 76,
   "metadata": {},
   "outputs": [
    {
     "name": "stdout",
     "output_type": "stream",
     "text": [
      "float64\n"
     ]
    },
    {
     "name": "stderr",
     "output_type": "stream",
     "text": [
      "C:\\Users\\Modern\\AppData\\Local\\Packages\\PythonSoftwareFoundation.Python.3.12_qbz5n2kfra8p0\\LocalCache\\local-packages\\Python312\\site-packages\\seaborn\\matrix.py:203: RuntimeWarning: All-NaN slice encountered\n",
      "  vmax = np.nanmax(calc_data)\n"
     ]
    },
    {
     "data": {
      "text/plain": [
       "<Axes: xlabel='col', ylabel='row'>"
      ]
     },
     "execution_count": 76,
     "metadata": {},
     "output_type": "execute_result"
    },
    {
     "data": {
      "image/png": "[encoded data removed]",
      "text/plain": [
       "<Figure size 640x480 with 2 Axes>"
      ]
     },
     "metadata": {},
     "output_type": "display_data"
    }
   ],
   "source": [
    "sample_plate['Mean_dif'] = reference_plate['Mean_dif']\n",
    "\n",
    "sample_plate['Mean_corr'] = sample_plate['Intensity_MeanIntensity_OrigGreen'].div(sample_plate['Mean_dif'])\n",
    "\n",
    "print(sample_plate['Intensity_MeanIntensity_OrigGreen'].dtype)\n",
    "\n",
    "heatmap_df = sample_plate.pivot(index=\"row\", columns=\"col\", values=\"Mean_corr\")\n",
    "\n",
    "sns.heatmap(heatmap_df, linewidth=.5, vmin=0, vmax=None)\n"
   ]
  },
  {
   "cell_type": "markdown",
   "metadata": {},
   "source": [
    "Blank and control calculation for each plate"
   ]
  },
  {
   "cell_type": "code",
   "execution_count": null,
   "metadata": {},
   "outputs": [],
   "source": [
    "blank_control_array = []\n",
    "\n",
    "for p in plate:\n",
    "    blank_p = data_plate[(data_plate['blank'] == 'Yes') & (data_plate['FileName_RGB'] == p)].loc[:,'Intensity_MeanIntensity_OrigGreen'].mean()\n",
    "    control_p = data_plate[(data_plate['control'] == 'Yes') & (data_plate['blank'] == 'No') & (data_plate['FileName_RGB'] == p)].loc[:,'Intensity_MeanIntensity_OrigGreen'].mean()\n",
    "    blank_std_p = data_plate[(data_plate['blank'] == 'Yes') & (data_plate['FileName_RGB'] == p)].loc[:,'Intensity_MeanIntensity_OrigGreen'].std()\n",
    "    control_std_p = data_plate[(data_plate['control'] == 'Yes') & (data_plate['blank'] == 'No') & (data_plate['FileName_RGB'] == p)].loc[:,'Intensity_MeanIntensity_OrigGreen'].std()\n",
    "\n",
    "    bc_array_i = [blank_p,control_p,blank_std_p, control_std_p,p]\n",
    "\n",
    "    blank_control_array.append(bc_array_i)\n",
    "\n",
    "\n",
    "blank_control_df = pd.DataFrame(blank_control_array, columns = ['blank_mean', 'control_mean', 'blank_std','control_std','FileName_RGB']) \n",
    "\n",
    "print(blank_control_df)\n",
    "\n",
    "\n"
   ]
  },
  {
   "cell_type": "markdown",
   "metadata": {},
   "source": [
    "Blank exclusion and relative values calculating"
   ]
  },
  {
   "cell_type": "code",
   "execution_count": null,
   "metadata": {},
   "outputs": [],
   "source": [
    "data_plate_wo_blank_wells = data_plate[data_plate.blank == 'No'].copy() #dataframe without blank\n",
    "\n",
    "data_plate_with_mean_blank_control = pd.merge(data_plate_wo_blank_wells, blank_control_df, on=['FileName_RGB'])\n",
    "\n",
    "data_plate_with_mean_blank_control['Green_blanked'] = data_plate_with_mean_blank_control['Intensity_MeanIntensity_OrigGreen'] - data_plate_with_mean_blank_control['blank_mean']\n",
    "data_plate_with_mean_blank_control['Green_relative'] = data_plate_with_mean_blank_control['Green_blanked']/data_plate_with_mean_blank_control['control_mean']*100"
   ]
  },
  {
   "cell_type": "markdown",
   "metadata": {},
   "source": [
    "Data selection"
   ]
  },
  {
   "cell_type": "code",
   "execution_count": null,
   "metadata": {},
   "outputs": [],
   "source": [
    "# data_selected = data_plate_with_mean_blank_control[(data_plate_with_mean_blank_control['cells'] == 'Vero') & \n",
    "#                                                    (data_plate_with_mean_blank_control['sample'] == 'CK')]\n",
    "\n",
    "# data_selected = data_plate_with_mean_blank_control[(data_plate_with_mean_blank_control['substance'] == 'ISK-1')]\n",
    "# data_selected = data_plate_with_mean_blank_control[(data_plate_with_mean_blank_control['cells'] == 'hTERT')]\n",
    "data_selected = data_plate_with_mean_blank_control[(data_plate_with_mean_blank_control['substance'] == 'Test 3')]\n",
    "\n",
    "# print(data_selected['Intensity_IntegratedIntensity_OrigRed'][(data_selected['control'] == 'Yes')])"
   ]
  },
  {
   "cell_type": "markdown",
   "metadata": {},
   "source": [
    "Plotting\n"
   ]
  },
  {
   "cell_type": "code",
   "execution_count": null,
   "metadata": {},
   "outputs": [],
   "source": [
    "ax = sns.relplot(data=data_selected, x=\"conc_uM\", y=\"Intensity_MeanIntensity_OrigGreen\", kind=\"line\", hue = 'substance')\n",
    "\n",
    "\n",
    "# ax.set(xlabel=None, ylabel='Viable cell, % of control')\n",
    "\n",
    "ax.set(xlabel='Concentration, μM', ylabel='Cell viability relative to control, %')\n",
    "ax.set(xscale=\"symlog\")\n",
    "\n",
    "ax.set(xlim=(0, 200),ylim = (0,100))\n",
    "\n",
    "plt.show()\n",
    "\n"
   ]
  },
  {
   "cell_type": "code",
   "execution_count": null,
   "metadata": {},
   "outputs": [],
   "source": [
    "ax = sns.stripplot(data=data_plate_with_mean_blank_control, x=\"row\", y=\"Intensity_MeanIntensity_OrigRed\", hue = 'substance')\n",
    "# ax.set(xscale=\"symlog\")\n",
    "# ax.set(xlim=(-1, 110))\n",
    "\n",
    "ax.set(ylim = (0,None))\n",
    "plt.show()\n"
   ]
  },
  {
   "cell_type": "code",
   "execution_count": null,
   "metadata": {},
   "outputs": [],
   "source": [
    "ax = sns.relplot(data=data_plate_with_mean_blank_control, x=\"conc_uM\", y=\"Green_relative\", kind=\"line\", \n",
    "                 hue = 'substance', col='cells', ci=None)\n",
    "\n",
    "ax.set(xlabel='Concentration, μM', ylabel='Cell viability relative to control, %')\n",
    "ax.set(xscale=\"symlog\")\n",
    "\n",
    "ax.set(xlim=(0, 200),ylim = (0,100))\n",
    "\n",
    "plt.show()"
   ]
  },
  {
   "cell_type": "code",
   "execution_count": null,
   "metadata": {},
   "outputs": [],
   "source": [
    "# ax = sns.heatmap(data=data_selected)\n",
    "# ax.set(xscale=\"symlog\")\n",
    "# ax.set(xlim=(-1, 110))\n",
    "\n",
    "# ax.set(ylim = (0,None))\n",
    "\n",
    "data_selected = data_plate[(data_plate['substance'] == 'Test 3')].copy()\n",
    "\n",
    "heatmap_df = data_selected.pivot(index=\"row\", columns=\"col\", values=\"Intensity_IntegratedIntensity_OrigGreen\")\n",
    "\n",
    "# print(heatmap_df)\n",
    "\n",
    "sns.heatmap(heatmap_df, linewidth=.5, vmin=0, vmax=None)\n",
    "\n",
    "plt.show()"
   ]
  },
  {
   "cell_type": "code",
   "execution_count": null,
   "metadata": {},
   "outputs": [],
   "source": [
    "row_drop_list = ['A','H']\n",
    "\n",
    "data_plate_edges_drop = data_plate[~data_plate['row'].isin(row_drop_list)]\n",
    "\n"
   ]
  },
  {
   "cell_type": "code",
   "execution_count": null,
   "metadata": {},
   "outputs": [],
   "source": [
    "blank_control_array_ED = []\n",
    "\n",
    "for p in plate:\n",
    "    mean = data_plate_edges_drop[(data_plate_edges_drop['FileName_RGB'] == p)].loc[:,'Intensity_MeanIntensity_OrigGreen'].mean()\n",
    "\n",
    "    bc_array_i = [mean,p]\n",
    "\n",
    "    blank_control_array_ED.append(bc_array_i)\n",
    "\n",
    "\n",
    "blank_control_df_ED = pd.DataFrame(blank_control_array_ED, columns = ['mean','FileName_RGB']) \n",
    "\n",
    "print(blank_control_df_ED)"
   ]
  },
  {
   "cell_type": "code",
   "execution_count": null,
   "metadata": {},
   "outputs": [],
   "source": [
    "DPE_with_mean_blank_control = pd.merge(data_plate_edges_drop, blank_control_df_ED, on=['FileName_RGB'])\n",
    "\n",
    "DPE_with_mean_blank_control['Mean_dif'] = DPE_with_mean_blank_control['Intensity_MeanIntensity_OrigGreen']/DPE_with_mean_blank_control['mean']\n",
    "\n",
    "DPE_with_mean_blank_control['Mean_corr'] = DPE_with_mean_blank_control['Intensity_MeanIntensity_OrigGreen']/DPE_with_mean_blank_control['Mean_dif'] \n",
    "\n",
    "print(DPE_with_mean_blank_control['Mean_corr'])"
   ]
  },
  {
   "cell_type": "code",
   "execution_count": null,
   "metadata": {},
   "outputs": [],
   "source": [
    "ax = sns.stripplot(data=DPE_with_mean_blank_control, x=\"col\", y=\"Mean_corr\", hue = 'substance')\n",
    "# ax.set(xscale=\"symlog\")\n",
    "# ax.set(xlim=(-1, 110))\n",
    "\n",
    "ax.set(ylim = (0,None))\n",
    "plt.show()\n"
   ]
  },
  {
   "cell_type": "code",
   "execution_count": null,
   "metadata": {},
   "outputs": [],
   "source": [
    "path_to_folder_2 = r\"C:\\Users\\Modern\\Documents\\Biorad\\CellProfiler\\Results\\2024-07-24 Vero Rd hTERT CK-99c ISK-1 + CK-122 Slovesnova\"\n",
    "\n",
    "# files = [f for f in listdir(part_to_folder) if isfile(join(part_to_folder, f))]\n",
    "\n",
    "image_list_path_2 = os.path.join(path_to_folder_2, \"ExpImage.csv\")\n",
    "data_path_2  = os.path.join(path_to_folder_2, \"ExpWells_plate.csv\")\n",
    "\n",
    "data_raw_df_2 = pd.read_csv(data_path_2) \n",
    "image_list_df_2 = pd.read_csv(image_list_path_2) \n",
    "\n",
    "print(image_list_df_2)\n"
   ]
  },
  {
   "cell_type": "code",
   "execution_count": null,
   "metadata": {},
   "outputs": [],
   "source": [
    "wellmap_path_list_2 = []\n",
    "\n",
    "for file in os.listdir(path_to_folder_2):\n",
    "    if file.endswith(\".toml\"):\n",
    "        wellmap_path_list_2.append(os.path.join(path_to_folder_2, file))\n",
    "        # wellmap_path_list.append(file)\n",
    "\n",
    "# print(wellmap_path_list[0])\n",
    "\n",
    "wellmap_df = wellmap.load(wellmap_path_list[0]) \n",
    "\n",
    "wellmap_list = []\n",
    "\n",
    "for file in wellmap_path_list_2:\n",
    "    wellmap_i = wellmap.load(file)\n",
    "    wellmap_list.append(wellmap_i)\n",
    "\n",
    "wellmaps_df_2 = pd.concat(wellmap_list, axis=0, ignore_index=True)\n",
    "# print(wellmaps_df)\n",
    "\n",
    "wellmap.show(file);\n",
    "plt.show();"
   ]
  },
  {
   "cell_type": "code",
   "execution_count": null,
   "metadata": {},
   "outputs": [],
   "source": [
    "# row_column_df = pd.DataFrame(columns=['row','col'])\n",
    "\n",
    "row =  list(string.ascii_uppercase[0:8])\n",
    "column = list(range(1,13))\n",
    "plate = image_list_df_2['FileName_RGB'].to_list()\n",
    "\n",
    "row_column_list = []\n",
    "\n",
    "\n",
    "for p in plate:\n",
    "    for c in column:\n",
    "        for r in row:\n",
    "            array_i = [r,c]\n",
    "            row_column_list.append(array_i)\n",
    "\n",
    "row_column_df_2 = pd.DataFrame(row_column_list, columns = ['row', 'col']) \n",
    "\n",
    "print(row_column_df_2)"
   ]
  },
  {
   "cell_type": "code",
   "execution_count": null,
   "metadata": {},
   "outputs": [],
   "source": [
    "data_full_df_2 =  pd.merge(data_raw_df_2, image_list_df_2, on='ImageNumber') #Data with image names (FileName_RGB)\n",
    "data_indexed_2 = pd.concat([row_column_df_2, data_full_df_2], axis=1, join='inner') #Data with image names (FileName_RGB) and cell indexes (row,col)\n",
    "\n",
    "data_indexed_2['col']=data_indexed_2['col'].astype(str) #Otherwise everything will break\n",
    "\n",
    "data_plate_2 = pd.merge(data_indexed_2, wellmaps_df_2, on=['FileName_RGB','row','col']) #Data with image names (FileName_RGB), cell indexes and wellmap\n",
    "data_plate_2[[\"conc_uM\"]] = data_plate_2[[\"conc_uM\"]].apply(pd.to_numeric)\n",
    "\n",
    "print(data_plate_2.columns)"
   ]
  },
  {
   "cell_type": "code",
   "execution_count": null,
   "metadata": {},
   "outputs": [],
   "source": [
    "data_extracted = data_plate_2[(data_plate_2['FileName_RGB'] == '2024-07-19 Vero CK-122 5H (Multichannel).tif')]\n",
    "\n",
    "data_extracted['Mean_corr'] = data_extracted['Intensity_MeanIntensity_OrigGreen']/DPE_with_mean_blank_control['Mean_dif']\n",
    "\n",
    "print(DPE_with_mean_blank_control['Mean_dif'])\n",
    "\n",
    "\n",
    "#Надо попробовать сделать опорным 0_H планшет"
   ]
  },
  {
   "cell_type": "code",
   "execution_count": null,
   "metadata": {},
   "outputs": [],
   "source": [
    "ax = sns.stripplot(data=data_extracted, x=\"row\", y=\"Intensity_MeanIntensity_OrigGreen\", hue = 'substance')\n",
    "# ax.set(xscale=\"symlog\")\n",
    "# ax.set(xlim=(-1, 110))\n",
    "\n",
    "ax.set(ylim = (0,None))\n",
    "plt.show()\n",
    "\n"
   ]
  },
  {
   "cell_type": "code",
   "execution_count": null,
   "metadata": {},
   "outputs": [],
   "source": [
    "ax = sns.stripplot(data=data_extracted, x=\"row\", y=\"Mean_corr\", hue = 'substance')\n",
    "# ax.set(xscale=\"symlog\")\n",
    "# ax.set(xlim=(-1, 110))\n",
    "\n",
    "ax.set(ylim = (0,None))\n",
    "plt.show()\n"
   ]
  }
 ],
 "metadata": {
  "kernelspec": {
   "display_name": "Python 3",
   "language": "python",
   "name": "python3"
  },
  "language_info": {
   "codemirror_mode": {
    "name": "ipython",
    "version": 3
   },
   "file_extension": ".py",
   "mimetype": "text/x-python",
   "name": "python",
   "nbconvert_exporter": "python",
   "pygments_lexer": "ipython3",
   "version": "3.12.4"
  }
 },
 "nbformat": 4,
 "nbformat_minor": 2
}
