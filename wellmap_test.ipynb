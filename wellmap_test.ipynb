{
 "cells": [
  {
   "cell_type": "code",
   "execution_count": 36,
   "metadata": {},
   "outputs": [],
   "source": [
    "import wellmap\n",
    "import pandas as pd\n",
    "import os\n",
    "import string"
   ]
  },
  {
   "cell_type": "code",
   "execution_count": null,
   "metadata": {},
   "outputs": [],
   "source": [
    "# wellmap.show(\"2 substance 1 plate.toml\")\n",
    "wellmap.show(\"sph_dif_number.toml\"); # Yes, this semicolon is meaningful. Or plates map will be duplicated"
   ]
  },
  {
   "cell_type": "code",
   "execution_count": null,
   "metadata": {},
   "outputs": [],
   "source": [
    "path_to_data = r\"C:\\Users\\Modern\\Documents\\Biorad\\Test\\MyExpt_Wells.csv\"\n",
    "\n",
    "data_raw = pd.read_csv(path_to_data) \n",
    "\n",
    "print(data_raw.columns)\n",
    "# print(data)\n"
   ]
  },
  {
   "cell_type": "code",
   "execution_count": null,
   "metadata": {},
   "outputs": [],
   "source": [
    "data = data_raw[['ObjectNumber','Intensity_MeanIntensity_OrigGreen','Intensity_MeanIntensity_OrigRed']].copy()\n",
    "print(data)"
   ]
  },
  {
   "cell_type": "code",
   "execution_count": 66,
   "metadata": {},
   "outputs": [],
   "source": [
    "row_column_df = pd.DataFrame(columns=['row','col'])\n",
    "\n",
    "row =  list(string.ascii_uppercase[0:8])\n",
    "column = list(range(1,13))\n",
    "\n",
    "row_column_list = []\n",
    "\n",
    "for c in column:\n",
    "    for r in row:\n",
    "        array_i = [r,c]\n",
    "        row_column_list.append(array_i)\n",
    "\n",
    "\n",
    "# print(row_column_list)\n",
    "\n",
    "\n",
    "row_column_df = pd.DataFrame(row_column_list, columns = ['row', 'col']) \n",
    "\n",
    "# print(row_column_df)"
   ]
  },
  {
   "cell_type": "code",
   "execution_count": 76,
   "metadata": {},
   "outputs": [
    {
     "name": "stdout",
     "output_type": "stream",
     "text": [
      "   row  col  ObjectNumber  Intensity_MeanIntensity_OrigGreen  \\\n",
      "0    A    1             1                           0.050275   \n",
      "1    B    1             2                           0.060515   \n",
      "2    C    1             3                           0.069410   \n",
      "3    D    1             4                           0.055732   \n",
      "4    E    1             5                           0.056197   \n",
      "..  ..  ...           ...                                ...   \n",
      "91   D   12            92                           0.021266   \n",
      "92   E   12            93                           0.021385   \n",
      "93   F   12            94                           0.022824   \n",
      "94   G   12            95                           0.022357   \n",
      "95   H   12            96                           0.019518   \n",
      "\n",
      "    Intensity_MeanIntensity_OrigRed  \n",
      "0                          0.175962  \n",
      "1                          0.208404  \n",
      "2                          0.225460  \n",
      "3                          0.230673  \n",
      "4                          0.239340  \n",
      "..                              ...  \n",
      "91                         0.314610  \n",
      "92                         0.332624  \n",
      "93                         0.348786  \n",
      "94                         0.334386  \n",
      "95                         0.295050  \n",
      "\n",
      "[96 rows x 5 columns]\n"
     ]
    }
   ],
   "source": [
    "\n",
    "data_indexed = pd.concat([row_column_df, data], axis=1, join='inner')\n",
    "# print(data_indexed)"
   ]
  },
  {
   "cell_type": "code",
   "execution_count": null,
   "metadata": {},
   "outputs": [],
   "source": []
  }
 ],
 "metadata": {
  "kernelspec": {
   "display_name": "Python 3",
   "language": "python",
   "name": "python3"
  },
  "language_info": {
   "codemirror_mode": {
    "name": "ipython",
    "version": 3
   },
   "file_extension": ".py",
   "mimetype": "text/x-python",
   "name": "python",
   "nbconvert_exporter": "python",
   "pygments_lexer": "ipython3",
   "version": "3.12.4"
  }
 },
 "nbformat": 4,
 "nbformat_minor": 2
}
