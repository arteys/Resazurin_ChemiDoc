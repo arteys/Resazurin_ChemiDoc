{
 "cells": [
  {
   "cell_type": "code",
   "execution_count": 161,
   "metadata": {},
   "outputs": [],
   "source": [
    "import wellmap\n",
    "import pandas as pd\n",
    "import os\n",
    "import string\n",
    "import seaborn as sns"
   ]
  },
  {
   "cell_type": "code",
   "execution_count": null,
   "metadata": {},
   "outputs": [],
   "source": [
    "# wellmap.show(\"2 substance 1 plate.toml\")\n",
    "wellmap.show(\"sph_dif_number.toml\"); # Yes, this semicolon is meaningful. Or plates map will be duplicated"
   ]
  },
  {
   "cell_type": "code",
   "execution_count": null,
   "metadata": {},
   "outputs": [],
   "source": [
    "path_to_data = r\"C:\\Users\\Modern\\Documents\\Biorad\\Test\\MyExpt_Wells.csv\"\n",
    "\n",
    "data_raw = pd.read_csv(path_to_data) \n",
    "\n",
    "print(data_raw.columns)\n",
    "# print(data)\n"
   ]
  },
  {
   "cell_type": "code",
   "execution_count": 112,
   "metadata": {},
   "outputs": [
    {
     "name": "stdout",
     "output_type": "stream",
     "text": [
      "    Intensity_MeanIntensity_OrigGreen  Intensity_MeanIntensity_OrigRed\n",
      "0                            0.050275                         0.175962\n",
      "1                            0.060515                         0.208404\n",
      "2                            0.069410                         0.225460\n",
      "3                            0.055732                         0.230673\n",
      "4                            0.056197                         0.239340\n",
      "..                                ...                              ...\n",
      "91                           0.021266                         0.314610\n",
      "92                           0.021385                         0.332624\n",
      "93                           0.022824                         0.348786\n",
      "94                           0.022357                         0.334386\n",
      "95                           0.019518                         0.295050\n",
      "\n",
      "[96 rows x 2 columns]\n"
     ]
    }
   ],
   "source": [
    "data = data_raw[['Intensity_MeanIntensity_OrigGreen','Intensity_MeanIntensity_OrigRed']].copy()\n",
    "print(data)"
   ]
  },
  {
   "cell_type": "code",
   "execution_count": 153,
   "metadata": {},
   "outputs": [
    {
     "name": "stdout",
     "output_type": "stream",
     "text": [
      "row    object\n",
      "col     int64\n",
      "dtype: object\n"
     ]
    }
   ],
   "source": [
    "row_column_df = pd.DataFrame(columns=['row','col'])\n",
    "\n",
    "row =  list(string.ascii_uppercase[0:8])\n",
    "column = list(range(1,13))\n",
    "\n",
    "row_column_list = []\n",
    "\n",
    "for c in column:\n",
    "    for r in row:\n",
    "        array_i = [r,c]\n",
    "        row_column_list.append(array_i)\n",
    "\n",
    "\n",
    "# print(row_column_list)\n",
    "\n",
    "\n",
    "row_column_df = pd.DataFrame(row_column_list, columns = ['row', 'col']) \n",
    "\n",
    "print(row_column_df)"
   ]
  },
  {
   "cell_type": "code",
   "execution_count": 155,
   "metadata": {},
   "outputs": [
    {
     "name": "stdout",
     "output_type": "stream",
     "text": [
      "row                                   object\n",
      "col                                   object\n",
      "Intensity_MeanIntensity_OrigGreen    float64\n",
      "Intensity_MeanIntensity_OrigRed      float64\n",
      "dtype: object\n"
     ]
    }
   ],
   "source": [
    "\n",
    "data_indexed = pd.concat([row_column_df, data], axis=1, join='inner')\n",
    "\n",
    "\n",
    "data_indexed['col']=data_indexed['col'].astype(str)\n",
    "print(data_indexed.dtypes)"
   ]
  },
  {
   "cell_type": "code",
   "execution_count": 159,
   "metadata": {},
   "outputs": [
    {
     "name": "stdout",
     "output_type": "stream",
     "text": [
      "   row col  Intensity_MeanIntensity_OrigGreen  \\\n",
      "0    A   1                           0.050275   \n",
      "1    B   1                           0.060515   \n",
      "2    C   1                           0.069410   \n",
      "3    D   1                           0.055732   \n",
      "4    E   1                           0.056197   \n",
      "..  ..  ..                                ...   \n",
      "91   D  12                           0.021266   \n",
      "92   E  12                           0.021385   \n",
      "93   F  12                           0.022824   \n",
      "94   G  12                           0.022357   \n",
      "95   H  12                           0.019518   \n",
      "\n",
      "    Intensity_MeanIntensity_OrigRed well well0  row_i  col_j sample  \n",
      "0                          0.175962   A1   A01      0      0    N57  \n",
      "1                          0.208404   B1   B01      1      0    N57  \n",
      "2                          0.225460   C1   C01      2      0    N57  \n",
      "3                          0.230673   D1   D01      3      0    N57  \n",
      "4                          0.239340   E1   E01      4      0    N57  \n",
      "..                              ...  ...   ...    ...    ...    ...  \n",
      "91                         0.314610  D12   D12      3     11  Blank  \n",
      "92                         0.332624  E12   E12      4     11  Blank  \n",
      "93                         0.348786  F12   F12      5     11  Blank  \n",
      "94                         0.334386  G12   G12      6     11  Blank  \n",
      "95                         0.295050  H12   H12      7     11  Blank  \n",
      "\n",
      "[96 rows x 9 columns]\n"
     ]
    }
   ],
   "source": [
    "labels = wellmap.load('sph_dif_number.toml')\n",
    "# print(labels.dtypes)\n",
    "# print(data_indexed.dtypes)\n",
    "\n",
    "\n",
    "data_plate = pd.merge(data_indexed, labels)\n",
    "print(data_plate)"
   ]
  },
  {
   "cell_type": "code",
   "execution_count": 166,
   "metadata": {},
   "outputs": [
    {
     "name": "stderr",
     "output_type": "stream",
     "text": [
      "C:\\Users\\Modern\\AppData\\Local\\Packages\\PythonSoftwareFoundation.Python.3.12_qbz5n2kfra8p0\\LocalCache\\local-packages\\Python312\\site-packages\\seaborn\\categorical.py:1296: UserWarning: 12.5% of the points cannot be placed; you may want to decrease the size of the markers or use stripplot.\n",
      "  warnings.warn(msg, UserWarning)\n"
     ]
    },
    {
     "data": {
      "text/plain": [
       "<Axes: xlabel='sample', ylabel='Intensity_MeanIntensity_OrigGreen'>"
      ]
     },
     "execution_count": 166,
     "metadata": {},
     "output_type": "execute_result"
    },
    {
     "data": {
      "image/png": "[encoded data removed]",
      "text/plain": [
       "<Figure size 640x480 with 1 Axes>"
      ]
     },
     "metadata": {},
     "output_type": "display_data"
    }
   ],
   "source": [
    "sns.swarmplot(data=data_plate, x=\"sample\", y=\"Intensity_MeanIntensity_OrigGreen\")"
   ]
  }
 ],
 "metadata": {
  "kernelspec": {
   "display_name": "Python 3",
   "language": "python",
   "name": "python3"
  },
  "language_info": {
   "codemirror_mode": {
    "name": "ipython",
    "version": 3
   },
   "file_extension": ".py",
   "mimetype": "text/x-python",
   "name": "python",
   "nbconvert_exporter": "python",
   "pygments_lexer": "ipython3",
   "version": "3.12.4"
  }
 },
 "nbformat": 4,
 "nbformat_minor": 2
}
