{
 "cells": [
  {
   "cell_type": "code",
   "execution_count": 36,
   "metadata": {},
   "outputs": [],
   "source": [
    "import wellmap\n",
    "import pandas as pd\n",
    "import os\n",
    "import string"
   ]
  },
  {
   "cell_type": "code",
   "execution_count": null,
   "metadata": {},
   "outputs": [],
   "source": [
    "# wellmap.show(\"2 substance 1 plate.toml\")\n",
    "wellmap.show(\"sph_dif_number.toml\"); # Yes, this semicolon is meaningful. Or plates map will be duplicated"
   ]
  },
  {
   "cell_type": "code",
   "execution_count": null,
   "metadata": {},
   "outputs": [],
   "source": [
    "path_to_data = r\"C:\\Users\\Modern\\Documents\\Biorad\\Test\\MyExpt_Wells.csv\"\n",
    "\n",
    "data_raw = pd.read_csv(path_to_data) \n",
    "\n",
    "print(data_raw.columns)\n",
    "# print(data)\n"
   ]
  },
  {
   "cell_type": "code",
   "execution_count": null,
   "metadata": {},
   "outputs": [],
   "source": [
    "data = data_raw[['ObjectNumber','Intensity_MeanIntensity_OrigGreen','Intensity_MeanIntensity_OrigRed']].copy()\n",
    "print(data)"
   ]
  },
  {
   "cell_type": "code",
   "execution_count": 63,
   "metadata": {},
   "outputs": [
    {
     "name": "stdout",
     "output_type": "stream",
     "text": [
      "[['A', 1], ['B', 1], ['C', 1], ['D', 1], ['E', 1], ['F', 1], ['G', 1], ['H', 1], ['A', 2], ['B', 2], ['C', 2], ['D', 2], ['E', 2], ['F', 2], ['G', 2], ['H', 2], ['A', 3], ['B', 3], ['C', 3], ['D', 3], ['E', 3], ['F', 3], ['G', 3], ['H', 3], ['A', 4], ['B', 4], ['C', 4], ['D', 4], ['E', 4], ['F', 4], ['G', 4], ['H', 4], ['A', 5], ['B', 5], ['C', 5], ['D', 5], ['E', 5], ['F', 5], ['G', 5], ['H', 5], ['A', 6], ['B', 6], ['C', 6], ['D', 6], ['E', 6], ['F', 6], ['G', 6], ['H', 6], ['A', 7], ['B', 7], ['C', 7], ['D', 7], ['E', 7], ['F', 7], ['G', 7], ['H', 7], ['A', 8], ['B', 8], ['C', 8], ['D', 8], ['E', 8], ['F', 8], ['G', 8], ['H', 8], ['A', 9], ['B', 9], ['C', 9], ['D', 9], ['E', 9], ['F', 9], ['G', 9], ['H', 9], ['A', 10], ['B', 10], ['C', 10], ['D', 10], ['E', 10], ['F', 10], ['G', 10], ['H', 10], ['A', 11], ['B', 11], ['C', 11], ['D', 11], ['E', 11], ['F', 11], ['G', 11], ['H', 11], ['A', 12], ['B', 12], ['C', 12], ['D', 12], ['E', 12], ['F', 12], ['G', 12], ['H', 12]]\n",
      "   row  col\n",
      "0    A    1\n",
      "1    B    1\n",
      "2    C    1\n",
      "3    D    1\n",
      "4    E    1\n",
      "..  ..  ...\n",
      "91   D   12\n",
      "92   E   12\n",
      "93   F   12\n",
      "94   G   12\n",
      "95   H   12\n",
      "\n",
      "[96 rows x 2 columns]\n"
     ]
    }
   ],
   "source": [
    "row_column_df = pd.DataFrame(columns=['row','col'])\n",
    "\n",
    "row =  list(string.ascii_uppercase[0:8])\n",
    "column = list(range(1,13))\n",
    "\n",
    "row_column_list = []\n",
    "\n",
    "for c in column:\n",
    "    for r in row:\n",
    "        array_i = [r,c]\n",
    "        row_column_array.append(array_i)\n",
    "\n",
    "\n",
    "print(row_column_list)\n",
    "\n",
    "# row_column_df = pd.DataFrame({'row' : row_column_array[0],'col' : row_column_array[1]})\n",
    "\n",
    "row_column_df = pd.DataFrame(row_column_list, columns = ['row', 'col']) \n",
    "\n",
    "print(row_column_df)"
   ]
  }
 ],
 "metadata": {
  "kernelspec": {
   "display_name": "Python 3",
   "language": "python",
   "name": "python3"
  },
  "language_info": {
   "codemirror_mode": {
    "name": "ipython",
    "version": 3
   },
   "file_extension": ".py",
   "mimetype": "text/x-python",
   "name": "python",
   "nbconvert_exporter": "python",
   "pygments_lexer": "ipython3",
   "version": "3.12.4"
  }
 },
 "nbformat": 4,
 "nbformat_minor": 2
}
