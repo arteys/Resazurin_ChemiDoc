{
 "cells": [
  {
   "cell_type": "code",
   "execution_count": null,
   "metadata": {},
   "outputs": [],
   "source": [
    "import wellmap\n",
    "import pandas as pd\n",
    "import os\n",
    "import string\n",
    "import seaborn as sns\n",
    "from os import listdir\n",
    "from os.path import isfile, join\n",
    "import matplotlib.pyplot as plt"
   ]
  },
  {
   "cell_type": "markdown",
   "metadata": {},
   "source": [
    "New for multiple images in CP file"
   ]
  },
  {
   "cell_type": "code",
   "execution_count": null,
   "metadata": {},
   "outputs": [],
   "source": [
    "part_to_folder = r\"C:\\Users\\Modern\\Documents\\Biorad\\CellProfiler\\Results\\2024-07-26 RZ test plate\"\n",
    "\n",
    "files = [f for f in listdir(part_to_folder) if isfile(join(part_to_folder, f))]\n",
    "\n",
    "# image_list_path = os.path.join(part_to_folder, \"ExpImage.csv\")\n",
    "# data_path  = os.path.join(part_to_folder, \"ExpWells_plate.csv\")\n",
    "\n",
    "# data_raw_df = pd.read_csv(data_path) \n",
    "# image_list_df = pd.read_csv(image_list_path) \n",
    "\n",
    "# print(files)\n",
    "\n",
    "\n",
    "deg_90_filename = r'2024-07-26 RZ conc test 90 deg plate scaled 3 (Multichannel).csv'\n",
    "deg_90_df = pd.read_csv(os.path.join(part_to_folder, deg_90_filename))\n",
    "\n",
    "deg_0_filename = r'2024-07-26 RZ conc test plate 3 (Multichannel).csv'\n",
    "deg_0_df = pd.read_csv(os.path.join(part_to_folder, deg_0_filename))\n",
    "\n"
   ]
  },
  {
   "cell_type": "code",
   "execution_count": null,
   "metadata": {},
   "outputs": [],
   "source": [
    "deg_90_wellmap_filename = r'2024-07-26 RZ conc test 90 deg plate scaled 3 (Multichannel).toml'\n",
    "deg_0_wellmap_filename = r'2024-07-26 RZ conc test plate 3 (Multichannel).toml'\n",
    "\n",
    "\n",
    "deg_90_wellmap_df = wellmap.load(os.path.join(part_to_folder, deg_90_wellmap_filename)) \n",
    "deg_0_wellmap__wellmap_df = wellmap.load(os.path.join(part_to_folder, deg_0_wellmap_filename)) \n",
    "\n",
    "wellmap.show(os.path.join(part_to_folder, deg_90_wellmap_filename));\n",
    "\n",
    "image_list = [[1,'2024-07-26 RZ conc test 90 deg plate scaled 3 (Multichannel).tif'],[2,'2024-07-26 RZ conc test plate 3 (Multichannel).tif']]\n",
    "image_list_df = pd.DataFrame(image_list, columns=['ImageNumber', 'FileName_RGB'])\n"
   ]
  },
  {
   "cell_type": "markdown",
   "metadata": {},
   "source": [
    "Generating labels for wells"
   ]
  },
  {
   "cell_type": "code",
   "execution_count": null,
   "metadata": {},
   "outputs": [],
   "source": [
    "# row_column_df = pd.DataFrame(columns=['row','col'])\n",
    "\n",
    "row =  list(string.ascii_uppercase[0:8])\n",
    "column = list(range(1,13))\n",
    "plate = image_list_df['FileName_RGB'].to_list()\n",
    "\n",
    "row_column_list = []\n",
    "\n",
    "\n",
    "for c in column:\n",
    "    for r in row:\n",
    "        array_i = [r,c]\n",
    "        row_column_list.append(array_i)\n",
    "\n",
    "row_column_df = pd.DataFrame(row_column_list, columns = ['row', 'col']) \n",
    "\n",
    "print(row_column_df)"
   ]
  },
  {
   "cell_type": "markdown",
   "metadata": {},
   "source": [
    "Add images names to data (thank you CellProfiler for convenience)"
   ]
  },
  {
   "cell_type": "code",
   "execution_count": 30,
   "metadata": {},
   "outputs": [
    {
     "name": "stdout",
     "output_type": "stream",
     "text": [
      "Index(['ImageNumber', 'ObjectNumber',\n",
      "       'Intensity_IntegratedIntensity_OrigGreen',\n",
      "       'Intensity_IntegratedIntensity_OrigRed',\n",
      "       'Intensity_MeanIntensity_OrigGreen', 'Intensity_MeanIntensity_OrigRed',\n",
      "       'Intensity_StdIntensity_OrigGreen', 'Intensity_StdIntensity_OrigRed',\n",
      "       'row', 'col'],\n",
      "      dtype='object')\n"
     ]
    }
   ],
   "source": [
    "# data_90_deg =  pd.merge(deg_90_df, row_column_df) #Data with image names (FileName_RGB)\n",
    "data_90_deg = pd.concat([deg_90_df, row_column_df], axis=1, join='inner') #Data with image names (FileName_RGB) and cell indexes (row,col)\n",
    "data_0_deg = pd.concat([deg_0_df, row_column_df], axis=1, join='inner')\n",
    "# data_indexed['col']=data_indexed['col'].astype(str) #Otherwise everything will break\n",
    "\n",
    "# data_plate = pd.merge(data_indexed, wellmaps_df, on=['FileName_RGB','row','col']) #Data with image names (FileName_RGB), cell indexes and wellmap\n",
    "# data_plate[[\"conc_uM\"]] = data_plate[[\"conc_uM\"]].apply(pd.to_numeric)\n",
    "\n",
    "print(data_90_deg.columns)"
   ]
  },
  {
   "cell_type": "code",
   "execution_count": 37,
   "metadata": {},
   "outputs": [
    {
     "data": {
      "text/plain": [
       "<Axes: xlabel='col', ylabel='row'>"
      ]
     },
     "execution_count": 37,
     "metadata": {},
     "output_type": "execute_result"
    },
    {
     "data": {
      "image/png": "[encoded data removed]",
      "text/plain": [
       "<Figure size 640x480 with 2 Axes>"
      ]
     },
     "metadata": {},
     "output_type": "display_data"
    }
   ],
   "source": [
    "# sample_plate = data_90_deg[(data_90_deg['RZ_incubation'] == '5H')].copy().reset_index(drop=True)\n",
    "\n",
    "heatmap_df = data_90_deg.pivot(index=\"row\", columns=\"col\", values=\"Intensity_IntegratedIntensity_OrigRed\")\n",
    "\n",
    "sns.heatmap(heatmap_df, linewidth=.5, vmin=0, vmax=None)\n",
    "\n",
    "# print(sample_plate)"
   ]
  },
  {
   "cell_type": "code",
   "execution_count": null,
   "metadata": {},
   "outputs": [],
   "source": [
    "sample_plate['Mean_dif'] = reference_plate['Mean_dif']\n",
    "\n",
    "sample_plate['Mean_corr'] = sample_plate['Intensity_MeanIntensity_OrigGreen']*sample_plate['Mean_dif']\n",
    "\n",
    "print(sample_plate['Mean_corr'])\n",
    "\n",
    "heatmap_df = sample_plate.pivot(index=\"row\", columns=\"col\", values=\"Mean_corr\")\n",
    "\n",
    "# sns.heatmap(heatmap_df, linewidth=.5, vmin=0, vmax=None)\n",
    "\n",
    "p = \"2024-07-19 RD CK-122 5H (Multichannel).tif\"\n",
    "\n",
    "mean_sample = sample_plate[(sample_plate['FileName_RGB'] == p)].loc[:,'Intensity_MeanIntensity_OrigGreen'].mean()\n",
    "\n",
    "sample_plate['Mean_dif_to_mean'] = sample_plate['Intensity_MeanIntensity_OrigGreen']/mean_sample\n",
    "\n",
    "sample_plate['Mean_dif_to_mean'] = sample_plate['Intensity_MeanIntensity_OrigGreen']/mean_sample\n",
    "\n",
    "sample_plate['Mean_corr'] = sample_plate['Intensity_MeanIntensity_OrigGreen']/reference_plate['Mean_dif'] \n",
    "\n",
    "sample_plate['Mean_corr_dif'] = sample_plate['Mean_corr']/mean_sample\n",
    "\n",
    "\n",
    "heatmap_df = sample_plate.pivot(index=\"row\", columns=\"col\", values=\"Mean_corr\")\n",
    "\n",
    "sns.heatmap(heatmap_df, linewidth=.5 )\n",
    "\n",
    "\n",
    "plt.show()\n"
   ]
  },
  {
   "cell_type": "code",
   "execution_count": null,
   "metadata": {},
   "outputs": [],
   "source": [
    "# row_drop_list = ['A','H']\n",
    "\n",
    "# cleared_data = sample_plate[~sample_plate['row'].isin(row_drop_list)]\n",
    "\n",
    "cleared_data = sample_plate[sample_plate['blank']=='No']\n",
    "\n",
    "well_drop_list = ['']\n",
    "\n",
    "ax = sns.boxplot(data=cleared_data, x=\"conc_uM\", y=\"Intensity_MeanIntensity_OrigGreen\", hue = 'substance', palette=['r'])\n",
    "\n",
    "ay = sns.boxplot(data=cleared_data, x=\"conc_uM\", y=\"Mean_corr\", hue = 'substance')"
   ]
  },
  {
   "cell_type": "code",
   "execution_count": null,
   "metadata": {},
   "outputs": [],
   "source": [
    "\n",
    "ax = sns.relplot(data=cleared_data, x=\"conc_uM\", y=\"Intensity_MeanIntensity_OrigGreen\", hue = 'substance', palette=['r'],  kind=\"line\")\n",
    "\n",
    "ay = sns.relplot(data=cleared_data, x=\"conc_uM\", y=\"Mean_corr\", hue = 'substance',  kind=\"line\")\n",
    "\n",
    "ax.set(xscale=\"symlog\")\n",
    "ay.set(xscale=\"symlog\")\n",
    "\n",
    "ax.set(xlim=(0, 200))\n",
    "ay.set(xlim=(0, 200))"
   ]
  },
  {
   "cell_type": "code",
   "execution_count": null,
   "metadata": {},
   "outputs": [],
   "source": [
    "ax = sns.swarmplot(data=cleared_data, x=\"conc_uM\", y=\"Intensity_MeanIntensity_OrigGreen\", hue = 'substance', palette=['r'])\n",
    "\n",
    "ay = sns.swarmplot(data=cleared_data, x=\"conc_uM\", y=\"Mean_corr\", hue = 'substance')\n"
   ]
  },
  {
   "cell_type": "markdown",
   "metadata": {},
   "source": [
    "Blank and control calculation for each plate"
   ]
  },
  {
   "cell_type": "code",
   "execution_count": null,
   "metadata": {},
   "outputs": [],
   "source": [
    "blank_array = []\n",
    "\n",
    "p = \"2024-07-19 RD CK-122 5H (Multichannel).tif\"\n",
    "\n",
    "\n",
    "\n",
    "blank_p = sample_plate[(sample_plate['blank'] == 'Yes') & (sample_plate['FileName_RGB'] == p)].loc[:,'Mean_corr'].mean()\n",
    "blank_std_p = sample_plate[(sample_plate['blank'] == 'Yes') & (sample_plate['FileName_RGB'] == p)].loc[:,'Mean_corr'].std()\n",
    "\n",
    "bc_array_i = [blank_p, blank_std_p ,p]\n",
    "\n",
    "blank_array.append(bc_array_i)\n",
    "\n",
    "blank_df = pd.DataFrame(blank_array, columns = ['blank_mean','blank_std','FileName_RGB']) \n",
    "\n",
    "data_plate_with_blank = pd.merge(sample_plate, blank_df, on=['FileName_RGB'])\n",
    "\n",
    "print(blank_df)\n"
   ]
  },
  {
   "cell_type": "code",
   "execution_count": null,
   "metadata": {},
   "outputs": [],
   "source": [
    "data_plate_with_blank['Green_blanked'] = data_plate_with_blank['Mean_corr'] - data_plate_with_blank['blank_mean']\n",
    "\n",
    "\n",
    "data_plate_wo_blank = data_plate_with_blank[data_plate_with_blank.blank == 'No'].copy() #dataframe without blank\n",
    "\n",
    "control_array = []\n",
    "\n",
    "control_p = data_plate_wo_blank[(data_plate_wo_blank['control'] == 'Yes') \n",
    "                                & (data_plate_wo_blank['blank'] == 'No') & \n",
    "                                (data_plate_wo_blank['FileName_RGB'] == p)].loc[:,'Green_blanked'].mean()\n",
    "\n",
    "control_std_p = data_plate_wo_blank[(data_plate_wo_blank['control'] == 'Yes') \n",
    "                                    & (data_plate_wo_blank['blank'] == 'No') & \n",
    "                                    (data_plate_wo_blank['FileName_RGB'] == p)].loc[:,'Green_blanked'].std()\n",
    "\n",
    "bc_array_i = [control_p,control_std_p,p]\n",
    "\n",
    "control_array.append(bc_array_i)\n",
    "\n",
    "control_df = pd.DataFrame(control_array, columns = ['control_mean', 'control_std','FileName_RGB']) \n",
    "\n",
    "print(control_df)\n",
    "\n",
    "data_plate_with_control = pd.merge(data_plate_wo_blank, control_df, on=['FileName_RGB'])\n",
    "\n",
    "data_plate_with_control['Green_relative'] = data_plate_with_control['Green_blanked']/data_plate_with_control['control_mean']*100\n",
    "\n",
    "\n",
    "print(data_plate_with_control[(data_plate_with_control['control'] == 'Yes') \n",
    "                                & (data_plate_with_control['blank'] == 'No') & \n",
    "                                (data_plate_with_control['FileName_RGB'] == p)].loc[:,'Green_relative'])"
   ]
  },
  {
   "cell_type": "markdown",
   "metadata": {},
   "source": [
    "Plotting\n"
   ]
  },
  {
   "cell_type": "code",
   "execution_count": null,
   "metadata": {},
   "outputs": [],
   "source": [
    "\n",
    "# row_drop_list = ['A','H']\n",
    "\n",
    "row_drop_list = []\n",
    "\n",
    "cleared_data = data_plate_with_control[~data_plate_with_control['row'].isin(row_drop_list)]\n",
    "\n",
    "ax = sns.relplot(data=cleared_data, x=\"conc_uM\", y=\"Green_relative\", kind=\"line\", hue = 'substance')\n",
    "\n",
    "# ax.set(xlabel=None, ylabel='Viable cell, % of control')\n",
    "\n",
    "ax.set(xlabel='Concentration, μM', ylabel='Cell viability relative to control, %')\n",
    "ax.set(xscale=\"symlog\")\n",
    "\n",
    "ax.set(xlim=(0, 200),ylim = (0,120))\n",
    "\n",
    "plt.show()\n",
    "\n"
   ]
  },
  {
   "cell_type": "code",
   "execution_count": null,
   "metadata": {},
   "outputs": [],
   "source": [
    "sns.swarmplot(data=data_plate_with_control, x=\"conc_uM\", y=\"Green_relative\", hue = 'substance')"
   ]
  }
 ],
 "metadata": {
  "kernelspec": {
   "display_name": "Python 3",
   "language": "python",
   "name": "python3"
  },
  "language_info": {
   "codemirror_mode": {
    "name": "ipython",
    "version": 3
   },
   "file_extension": ".py",
   "mimetype": "text/x-python",
   "name": "python",
   "nbconvert_exporter": "python",
   "pygments_lexer": "ipython3",
   "version": "3.12.4"
  }
 },
 "nbformat": 4,
 "nbformat_minor": 2
}
